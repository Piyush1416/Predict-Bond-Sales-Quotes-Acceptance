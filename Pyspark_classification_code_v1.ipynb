{
 "cells": [
  {
   "cell_type": "code",
   "execution_count": 1,
   "metadata": {
    "colab": {
     "base_uri": "https://localhost:8080/"
    },
    "id": "rn7VGQtnyoq9",
    "outputId": "f0ba27ab-1adb-4d2f-c87c-3a71a0698a26"
   },
   "outputs": [
    {
     "name": "stdout",
     "output_type": "stream",
     "text": [
      "Collecting pyspark\n",
      "  Downloading pyspark-3.1.2.tar.gz (212.4 MB)\n",
      "Collecting py4j==0.10.9\n",
      "  Downloading py4j-0.10.9-py2.py3-none-any.whl (198 kB)\n",
      "Building wheels for collected packages: pyspark\n",
      "  Building wheel for pyspark (setup.py): started\n",
      "  Building wheel for pyspark (setup.py): finished with status 'done'\n",
      "  Created wheel for pyspark: filename=pyspark-3.1.2-py2.py3-none-any.whl size=212880768 sha256=acf7da967b1059fad254995842582b4019282d3733f1eda6741681183b93fd5f\n",
      "  Stored in directory: c:\\users\\user 1\\appdata\\local\\pip\\cache\\wheels\\df\\88\\9e\\58ef1f74892fef590330ca0830b5b6d995ba29b44f977b3926\n",
      "Successfully built pyspark\n",
      "Installing collected packages: py4j, pyspark\n",
      "Successfully installed py4j-0.10.9 pyspark-3.1.2\n"
     ]
    }
   ],
   "source": [
    "!pip install pyspark"
   ]
  },
  {
   "cell_type": "markdown",
   "metadata": {
    "id": "Z7-pTeQyy8Iy"
   },
   "source": [
    "As per context given, we need to create a model that estimates whether prices quoted to clients in bonds are going to be accepted by them,\n",
    "therefore resulting in a trade.\n",
    "\n",
    "**Description of the dataset**:\n",
    "\n",
    "**1. Dataset A: rfqs.csv:**\n",
    "\n",
    "● date_time: date and time at which the quote is requested.\n",
    "\n",
    "● Instrument: the bond for which the customer has requested a price\n",
    "\n",
    "● client: client code (anonymized)\n",
    "\n",
    "● price: price quoted to the client by the bank\n",
    "\n",
    "● mid: market mid-price of the bond captured by the bank's system at the time of the operation\n",
    "\n",
    "● vol_MM: amount requested by the client (in millions of euros).\n",
    "\n",
    "● dv01: sensitivity of the bond to variations in its yield (a measure of risk of the bond)\n",
    "\n",
    "● num_dealers: number of banks from whom the client has requested a quote\n",
    "\n",
    "● side: 1 if it is buy -1 if it is sell (from the point of view of the bank, not the client)\n",
    "\n",
    "● won: 0 if the bank did not close the operation, 1 if it did.\n",
    "\n",
    "\n",
    "**2. Dataset B mids.csv:**\n",
    "\n",
    "● date_time: day and time of the market mid-price of the bond\n",
    "\n",
    "● mid: market mid-price of the bond provided by a data provider with greater reliability than our platform, sampled with a frequency of 5 minutes\n",
    "\n",
    "● instrument: the bond for which the market price is provided\n",
    "\n",
    "\n",
    "\n",
    "**Importing Dataset**"
   ]
  },
  {
   "cell_type": "code",
   "execution_count": 2,
   "metadata": {
    "id": "dyKKALyMz4Xi"
   },
   "outputs": [],
   "source": [
    "import os\n",
    "import pandas as pd\n",
    "import numpy as np\n",
    "\n",
    "from pyspark import SparkConf, SparkContext\n",
    "from pyspark.sql import SparkSession, SQLContext\n",
    "\n",
    "from pyspark.sql.types import *\n",
    "import pyspark.sql.functions as F\n",
    "from pyspark.sql.functions import udf, col\n",
    "from pyspark.sql.functions import to_date\n",
    "from pyspark.sql.functions  import date_format\n",
    "import pyspark.sql.functions as F\n",
    "from pyspark.sql.functions import coalesce\n",
    "from pyspark.sql.functions import when\n",
    "from pyspark.sql.functions import year, month\n",
    "from pyspark.sql.functions import to_date\n",
    "\n",
    "\n",
    "from pyspark.ml.tuning import ParamGridBuilder, CrossValidator, CrossValidatorModel\n",
    "from pyspark.ml.feature import VectorAssembler, StandardScaler\n",
    "from pyspark.ml.evaluation import RegressionEvaluator\n",
    "from pyspark.ml.feature import StringIndexer, VectorAssembler\n",
    "from pyspark.ml.classification import LogisticRegression,\\\n",
    "                    RandomForestClassifier, GBTClassifier\n",
    "from pyspark.ml.evaluation import MulticlassClassificationEvaluator\n",
    "from pyspark.ml.evaluation import BinaryClassificationEvaluator\n",
    "from pyspark.ml import Pipeline\n",
    "from pyspark.ml.tuning import CrossValidator, ParamGridBuilder\n",
    "from sklearn.metrics import classification_report, confusion_matrix\n",
    "\n",
    "import seaborn as sns\n",
    "import matplotlib.pyplot as plt\n",
    "\n",
    "# Visualization\n",
    "from IPython.core.interactiveshell import InteractiveShell\n",
    "InteractiveShell.ast_node_interactivity = \"all\"\n",
    "\n",
    "pd.set_option('display.max_columns', 200)\n",
    "pd.set_option('display.max_colwidth', 400)\n",
    "\n",
    "from matplotlib import rcParams\n",
    "sns.set(context='notebook', style='whitegrid', rc={'figure.figsize': (18,4)})\n",
    "rcParams['figure.figsize'] = 18,4\n",
    "\n",
    "%matplotlib inline\n",
    "%config InlineBackend.figure_format = 'retina'"
   ]
  },
  {
   "cell_type": "code",
   "execution_count": 3,
   "metadata": {
    "id": "aBsYcLj70TKt"
   },
   "outputs": [],
   "source": [
    "# setting random seed for notebook reproducability\n",
    "rnd_seed=1416\n",
    "np.random.seed=rnd_seed\n",
    "np.random.set_state=rnd_seed"
   ]
  },
  {
   "cell_type": "markdown",
   "metadata": {
    "id": "Lg9R-1A1xD-e"
   },
   "source": [
    "**Creating Spark Session**"
   ]
  },
  {
   "cell_type": "code",
   "execution_count": 4,
   "metadata": {
    "id": "SjUaXNxrxIFF"
   },
   "outputs": [],
   "source": [
    "spark = SparkSession.builder.master(\"local[2]\").appName(\"BBVA-trading\").getOrCreate()"
   ]
  },
  {
   "cell_type": "code",
   "execution_count": 5,
   "metadata": {
    "colab": {
     "base_uri": "https://localhost:8080/",
     "height": 214
    },
    "id": "WamZweosxMuF",
    "outputId": "f7988d6f-71a8-48a7-edfd-48acdf0bb3dd"
   },
   "outputs": [
    {
     "data": {
      "text/html": [
       "\n",
       "            <div>\n",
       "                <p><b>SparkSession - in-memory</b></p>\n",
       "                \n",
       "        <div>\n",
       "            <p><b>SparkContext</b></p>\n",
       "\n",
       "            <p><a href=\"http://DESKTOP-L9P7OR0:4040\">Spark UI</a></p>\n",
       "\n",
       "            <dl>\n",
       "              <dt>Version</dt>\n",
       "                <dd><code>v3.1.2</code></dd>\n",
       "              <dt>Master</dt>\n",
       "                <dd><code>local[2]</code></dd>\n",
       "              <dt>AppName</dt>\n",
       "                <dd><code>BBVA-trading</code></dd>\n",
       "            </dl>\n",
       "        </div>\n",
       "        \n",
       "            </div>\n",
       "        "
      ],
      "text/plain": [
       "<pyspark.sql.session.SparkSession at 0x1a2a4576640>"
      ]
     },
     "execution_count": 5,
     "metadata": {},
     "output_type": "execute_result"
    }
   ],
   "source": [
    "spark"
   ]
  },
  {
   "cell_type": "code",
   "execution_count": 6,
   "metadata": {
    "colab": {
     "base_uri": "https://localhost:8080/",
     "height": 191
    },
    "id": "H6JBQQMJxTWT",
    "outputId": "bbcf9848-5572-4fa4-dd76-0829ce433c25"
   },
   "outputs": [
    {
     "data": {
      "text/html": [
       "\n",
       "        <div>\n",
       "            <p><b>SparkContext</b></p>\n",
       "\n",
       "            <p><a href=\"http://DESKTOP-L9P7OR0:4040\">Spark UI</a></p>\n",
       "\n",
       "            <dl>\n",
       "              <dt>Version</dt>\n",
       "                <dd><code>v3.1.2</code></dd>\n",
       "              <dt>Master</dt>\n",
       "                <dd><code>local[2]</code></dd>\n",
       "              <dt>AppName</dt>\n",
       "                <dd><code>BBVA-trading</code></dd>\n",
       "            </dl>\n",
       "        </div>\n",
       "        "
      ],
      "text/plain": [
       "<SparkContext master=local[2] appName=BBVA-trading>"
      ]
     },
     "execution_count": 6,
     "metadata": {},
     "output_type": "execute_result"
    }
   ],
   "source": [
    "sc = spark.sparkContext\n",
    "sc"
   ]
  },
  {
   "cell_type": "code",
   "execution_count": 7,
   "metadata": {
    "colab": {
     "base_uri": "https://localhost:8080/"
    },
    "id": "WUaa5BERxX9A",
    "outputId": "15b72811-a2fb-40ea-aa4d-6a5bb8ab0221"
   },
   "outputs": [
    {
     "data": {
      "text/plain": [
       "<pyspark.sql.context.SQLContext at 0x1a2a4576ee0>"
      ]
     },
     "execution_count": 7,
     "metadata": {},
     "output_type": "execute_result"
    }
   ],
   "source": [
    "sqlContext = SQLContext(spark.sparkContext)\n",
    "sqlContext"
   ]
  },
  {
   "cell_type": "markdown",
   "metadata": {
    "id": "B5Wd7tgIxane"
   },
   "source": [
    "**Loading dataset**"
   ]
  },
  {
   "cell_type": "code",
   "execution_count": 8,
   "metadata": {
    "id": "u9LTwHRAxYOM"
   },
   "outputs": [],
   "source": [
    "# 1. Loading mids dataset\n",
    "\n",
    "mids_df = spark.read.csv('mids.csv',\\\n",
    "                     header=True, inferSchema=True)"
   ]
  },
  {
   "cell_type": "code",
   "execution_count": 9,
   "metadata": {
    "colab": {
     "base_uri": "https://localhost:8080/"
    },
    "id": "dIUPEtxvxl60",
    "outputId": "bf4048fc-1836-411b-befc-fe74a7791a6a"
   },
   "outputs": [
    {
     "data": {
      "text/plain": [
       "[Row(_c0=0, date_time='2019-01-25 07:09:59', mid=107.758, instrument='H'),\n",
       " Row(_c0=1, date_time='2019-01-25 07:14:59', mid=107.757, instrument='H'),\n",
       " Row(_c0=2, date_time='2019-01-25 07:19:58', mid=107.755, instrument='H'),\n",
       " Row(_c0=3, date_time='2019-01-25 07:24:59', mid=107.756, instrument='H'),\n",
       " Row(_c0=4, date_time='2019-01-25 07:29:59', mid=125.28, instrument='K')]"
      ]
     },
     "execution_count": 9,
     "metadata": {},
     "output_type": "execute_result"
    }
   ],
   "source": [
    "mids_df.take(5)"
   ]
  },
  {
   "cell_type": "code",
   "execution_count": 10,
   "metadata": {
    "colab": {
     "base_uri": "https://localhost:8080/"
    },
    "id": "crpu9VijxmMX",
    "outputId": "4076e040-f6a3-434d-d05c-e8674ee1ffe7"
   },
   "outputs": [
    {
     "name": "stdout",
     "output_type": "stream",
     "text": [
      "+---+-------------------+-------+----------+\n",
      "|_c0|          date_time|    mid|instrument|\n",
      "+---+-------------------+-------+----------+\n",
      "|  0|2019-01-25 07:09:59|107.758|         H|\n",
      "|  1|2019-01-25 07:14:59|107.757|         H|\n",
      "|  2|2019-01-25 07:19:58|107.755|         H|\n",
      "|  3|2019-01-25 07:24:59|107.756|         H|\n",
      "|  4|2019-01-25 07:29:59| 125.28|         K|\n",
      "+---+-------------------+-------+----------+\n",
      "only showing top 5 rows\n",
      "\n"
     ]
    }
   ],
   "source": [
    "mids_df.show(5)"
   ]
  },
  {
   "cell_type": "code",
   "execution_count": 11,
   "metadata": {
    "colab": {
     "base_uri": "https://localhost:8080/"
    },
    "id": "_uhJXRIVyfQy",
    "outputId": "ac6a454d-1b95-471a-dfc3-297d3b2182d1"
   },
   "outputs": [
    {
     "name": "stdout",
     "output_type": "stream",
     "text": [
      "root\n",
      " |-- _c0: integer (nullable = true)\n",
      " |-- date_time: string (nullable = true)\n",
      " |-- mid: double (nullable = true)\n",
      " |-- instrument: string (nullable = true)\n",
      "\n"
     ]
    }
   ],
   "source": [
    "# Lets print the schema to see datatypes of the columns\n",
    "mids_df.printSchema()"
   ]
  },
  {
   "cell_type": "markdown",
   "metadata": {
    "id": "X9HwT261yuNp"
   },
   "source": [
    "The output of the show() might look ugly, especially if there are a large number of columns in the dataframe. At this point, we might miss Pandas head(). There is an option to convert the Spark dataframe into the Pandas dataframe. But we have to be careful here. Usually, Spark is handling a large volume of data, and converting it to Pandas stores everything immediately to the memory. Which we should avoid for the large data. However, there is a way out. Please remember the lazy evaluation of the Spark transformation. We can transform the Spark dataframe by limit(n) to take only n number of rows and then convert that to the Pandas. toPandas() is an action"
   ]
  },
  {
   "cell_type": "code",
   "execution_count": 12,
   "metadata": {
    "colab": {
     "base_uri": "https://localhost:8080/",
     "height": 203
    },
    "id": "a6Lnt9a8ynZ9",
    "outputId": "396ce36e-85c6-4bf2-e412-e24ba0c927eb"
   },
   "outputs": [
    {
     "data": {
      "text/html": [
       "<div>\n",
       "<style scoped>\n",
       "    .dataframe tbody tr th:only-of-type {\n",
       "        vertical-align: middle;\n",
       "    }\n",
       "\n",
       "    .dataframe tbody tr th {\n",
       "        vertical-align: top;\n",
       "    }\n",
       "\n",
       "    .dataframe thead th {\n",
       "        text-align: right;\n",
       "    }\n",
       "</style>\n",
       "<table border=\"1\" class=\"dataframe\">\n",
       "  <thead>\n",
       "    <tr style=\"text-align: right;\">\n",
       "      <th></th>\n",
       "      <th>_c0</th>\n",
       "      <th>date_time</th>\n",
       "      <th>mid</th>\n",
       "      <th>instrument</th>\n",
       "    </tr>\n",
       "  </thead>\n",
       "  <tbody>\n",
       "    <tr>\n",
       "      <th>0</th>\n",
       "      <td>0</td>\n",
       "      <td>2019-01-25 07:09:59</td>\n",
       "      <td>107.758</td>\n",
       "      <td>H</td>\n",
       "    </tr>\n",
       "    <tr>\n",
       "      <th>1</th>\n",
       "      <td>1</td>\n",
       "      <td>2019-01-25 07:14:59</td>\n",
       "      <td>107.757</td>\n",
       "      <td>H</td>\n",
       "    </tr>\n",
       "    <tr>\n",
       "      <th>2</th>\n",
       "      <td>2</td>\n",
       "      <td>2019-01-25 07:19:58</td>\n",
       "      <td>107.755</td>\n",
       "      <td>H</td>\n",
       "    </tr>\n",
       "    <tr>\n",
       "      <th>3</th>\n",
       "      <td>3</td>\n",
       "      <td>2019-01-25 07:24:59</td>\n",
       "      <td>107.756</td>\n",
       "      <td>H</td>\n",
       "    </tr>\n",
       "    <tr>\n",
       "      <th>4</th>\n",
       "      <td>4</td>\n",
       "      <td>2019-01-25 07:29:59</td>\n",
       "      <td>125.280</td>\n",
       "      <td>K</td>\n",
       "    </tr>\n",
       "  </tbody>\n",
       "</table>\n",
       "</div>"
      ],
      "text/plain": [
       "   _c0            date_time      mid instrument\n",
       "0    0  2019-01-25 07:09:59  107.758          H\n",
       "1    1  2019-01-25 07:14:59  107.757          H\n",
       "2    2  2019-01-25 07:19:58  107.755          H\n",
       "3    3  2019-01-25 07:24:59  107.756          H\n",
       "4    4  2019-01-25 07:29:59  125.280          K"
      ]
     },
     "execution_count": 12,
     "metadata": {},
     "output_type": "execute_result"
    }
   ],
   "source": [
    "mids_df.limit(5).toPandas()"
   ]
  },
  {
   "cell_type": "markdown",
   "metadata": {
    "id": "GXtwyNRGyzgm"
   },
   "source": [
    "Alternatively we can select() a few columns and inspect within Spark. select() is an example of Spark transformation. Therefore that step is evaluated lazily. Hence we pass a Spark action show() at the end to print the result."
   ]
  },
  {
   "cell_type": "code",
   "execution_count": 13,
   "metadata": {
    "colab": {
     "base_uri": "https://localhost:8080/"
    },
    "id": "aXuh-gI3ywXt",
    "outputId": "985a5990-a793-4571-f9ff-65039431dca2"
   },
   "outputs": [
    {
     "name": "stdout",
     "output_type": "stream",
     "text": [
      "+-------+----------+\n",
      "|    mid|instrument|\n",
      "+-------+----------+\n",
      "|107.758|         H|\n",
      "|107.757|         H|\n",
      "|107.755|         H|\n",
      "|107.756|         H|\n",
      "| 125.28|         K|\n",
      "+-------+----------+\n",
      "only showing top 5 rows\n",
      "\n"
     ]
    }
   ],
   "source": [
    "mids_df.select('mid','instrument').show(5)"
   ]
  },
  {
   "cell_type": "code",
   "execution_count": 14,
   "metadata": {
    "colab": {
     "base_uri": "https://localhost:8080/"
    },
    "id": "KLKEl3GDy1qF",
    "outputId": "43189b8f-5c7d-4804-e2e7-a6132f83da4b"
   },
   "outputs": [
    {
     "name": "stdout",
     "output_type": "stream",
     "text": [
      "+-------+------------------+----------+\n",
      "|summary|               mid|instrument|\n",
      "+-------+------------------+----------+\n",
      "|  count|             23775|     23775|\n",
      "|   mean|113.20981556256497|      null|\n",
      "| stddev| 9.205682342637537|      null|\n",
      "|    min|           100.471|         A|\n",
      "|    25%|           106.864|      null|\n",
      "|    50%|           111.036|      null|\n",
      "|    75%|           117.494|      null|\n",
      "|    max|           147.368|         L|\n",
      "+-------+------------------+----------+\n",
      "\n"
     ]
    }
   ],
   "source": [
    "mids_df.select('mid','instrument').summary().show()"
   ]
  },
  {
   "cell_type": "code",
   "execution_count": 15,
   "metadata": {
    "colab": {
     "base_uri": "https://localhost:8080/"
    },
    "id": "PzkD2XDhy9T7",
    "outputId": "d4406155-3efc-437d-dd7b-67921ea7e6c2"
   },
   "outputs": [
    {
     "name": "stdout",
     "output_type": "stream",
     "text": [
      "Number of rows: \t 23775\n",
      "Number of columns: \t 4\n"
     ]
    }
   ],
   "source": [
    "print('Number of rows: \\t', mids_df.count())\n",
    "print('Number of columns: \\t', len(mids_df.columns))"
   ]
  },
  {
   "cell_type": "code",
   "execution_count": 16,
   "metadata": {
    "colab": {
     "base_uri": "https://localhost:8080/"
    },
    "id": "9rAMnaCQzAbv",
    "outputId": "4c901fd6-c128-47c5-e8bf-0390dfeb8ff5"
   },
   "outputs": [
    {
     "name": "stdout",
     "output_type": "stream",
     "text": [
      "+---+-------------------+-------+----------+----------+\n",
      "|_c0|          date_time|    mid|instrument|  DateOnly|\n",
      "+---+-------------------+-------+----------+----------+\n",
      "|  0|2019-01-25 07:09:59|107.758|         H|2019-01-25|\n",
      "|  1|2019-01-25 07:14:59|107.757|         H|2019-01-25|\n",
      "|  2|2019-01-25 07:19:58|107.755|         H|2019-01-25|\n",
      "|  3|2019-01-25 07:24:59|107.756|         H|2019-01-25|\n",
      "|  4|2019-01-25 07:29:59| 125.28|         K|2019-01-25|\n",
      "+---+-------------------+-------+----------+----------+\n",
      "only showing top 5 rows\n",
      "\n"
     ]
    }
   ],
   "source": [
    "mids_df = mids_df.withColumn(\"DateOnly\", date_format('date_time', \"yyyy-MM-dd\"))\n",
    "mids_df.show(5)"
   ]
  },
  {
   "cell_type": "code",
   "execution_count": 17,
   "metadata": {
    "colab": {
     "base_uri": "https://localhost:8080/"
    },
    "id": "gFVeBXiSzKeV",
    "outputId": "18d7c699-74e3-4e61-f0ff-5291d91d48be"
   },
   "outputs": [
    {
     "name": "stdout",
     "output_type": "stream",
     "text": [
      "Number of rows: \t 6403\n",
      "Number of columns: \t 11\n"
     ]
    }
   ],
   "source": [
    "# Now let us load the rfqs dataset\n",
    "rfqs_df = spark.read.csv('rfqs.csv',\\\n",
    "                     header=True, inferSchema=True)\n",
    "print('Number of rows: \\t', rfqs_df.count())\n",
    "print('Number of columns: \\t', len(rfqs_df.columns))"
   ]
  },
  {
   "cell_type": "code",
   "execution_count": 18,
   "metadata": {
    "colab": {
     "base_uri": "https://localhost:8080/"
    },
    "id": "5TiVKuxXzQLg",
    "outputId": "757217a2-2069-4c16-9cde-e0cb441fdfa8"
   },
   "outputs": [
    {
     "name": "stdout",
     "output_type": "stream",
     "text": [
      "+-----+--------------------+----------+------+-------+--------+------+-------+-----------+----+---+\n",
      "|  _c0|           date_time|instrument|client|  price|     mid|vol_MM|   dv01|num_dealers|side|won|\n",
      "+-----+--------------------+----------+------+-------+--------+------+-------+-----------+----+---+\n",
      "|94075|2019-01-25 15:58:...|         I|     F|112.779|112.7416|   2.0|  6.087|          5|  -1|  0|\n",
      "|94087|2019-01-28 09:28:...|         B|     G|106.065|106.1855|   0.5|21.9017|          5|   1|  0|\n",
      "|94089|2019-01-28 09:40:...|         F|     G|107.607| 107.557| 0.975|13.2621|          5|  -1|  0|\n",
      "|94158|2019-01-29 16:21:...|         E|     F|100.622| 100.582|  0.01| 4.4853|          5|  -1|  0|\n",
      "|94194|2019-01-30 16:19:...|         F|     F|107.297| 107.217| 0.448|13.2087|          5|  -1|  0|\n",
      "+-----+--------------------+----------+------+-------+--------+------+-------+-----------+----+---+\n",
      "only showing top 5 rows\n",
      "\n"
     ]
    }
   ],
   "source": [
    "rfqs_df.show(5)"
   ]
  },
  {
   "cell_type": "code",
   "execution_count": 19,
   "metadata": {
    "colab": {
     "base_uri": "https://localhost:8080/"
    },
    "id": "WDVrd0UvzSOf",
    "outputId": "1e15c8c0-bcd3-4903-f6e7-121e1ddb335f"
   },
   "outputs": [
    {
     "name": "stdout",
     "output_type": "stream",
     "text": [
      "+-----+--------------------+----------+------+-------+--------+------+-------+-----------+----+---+----------+\n",
      "|  _c0|           date_time|instrument|client|  price|     mid|vol_MM|   dv01|num_dealers|side|won|  DateOnly|\n",
      "+-----+--------------------+----------+------+-------+--------+------+-------+-----------+----+---+----------+\n",
      "|94075|2019-01-25 15:58:...|         I|     F|112.779|112.7416|   2.0|  6.087|          5|  -1|  0|2019-01-25|\n",
      "|94087|2019-01-28 09:28:...|         B|     G|106.065|106.1855|   0.5|21.9017|          5|   1|  0|2019-01-28|\n",
      "|94089|2019-01-28 09:40:...|         F|     G|107.607| 107.557| 0.975|13.2621|          5|  -1|  0|2019-01-28|\n",
      "|94158|2019-01-29 16:21:...|         E|     F|100.622| 100.582|  0.01| 4.4853|          5|  -1|  0|2019-01-29|\n",
      "|94194|2019-01-30 16:19:...|         F|     F|107.297| 107.217| 0.448|13.2087|          5|  -1|  0|2019-01-30|\n",
      "+-----+--------------------+----------+------+-------+--------+------+-------+-----------+----+---+----------+\n",
      "only showing top 5 rows\n",
      "\n"
     ]
    }
   ],
   "source": [
    "rfqs_df = rfqs_df.withColumn(\"DateOnly\", date_format('date_time', \"yyyy-MM-dd\"))\n",
    "rfqs_df.show(5)"
   ]
  },
  {
   "cell_type": "markdown",
   "metadata": {
    "id": "ZHBHCZFJ3Qzt"
   },
   "source": [
    "**Cleaning and Treatment of data and feature engineering**"
   ]
  },
  {
   "cell_type": "markdown",
   "metadata": {
    "id": "Hgvd3ROUzi--"
   },
   "source": [
    "As I have taken date only format, I will be dropping the date-time and _c0 columns.\n",
    "\n",
    "Not a great idea to drop time, as for model development accuracy it would be good to use time to pick mid value that maps with timing of our dataset's mid, but for now we will use highest value of mid for that day, which I will show below."
   ]
  },
  {
   "cell_type": "code",
   "execution_count": 20,
   "metadata": {
    "colab": {
     "base_uri": "https://localhost:8080/"
    },
    "id": "K_JCXR-BzVQP",
    "outputId": "3138dfdd-a30c-4026-e5c1-caa9e5425dd9"
   },
   "outputs": [
    {
     "name": "stdout",
     "output_type": "stream",
     "text": [
      "+----------+------+-------+--------+------+-------+-----------+----+---+----------+\n",
      "|instrument|client|  price|     mid|vol_MM|   dv01|num_dealers|side|won|  DateOnly|\n",
      "+----------+------+-------+--------+------+-------+-----------+----+---+----------+\n",
      "|         I|     F|112.779|112.7416|   2.0|  6.087|          5|  -1|  0|2019-01-25|\n",
      "|         B|     G|106.065|106.1855|   0.5|21.9017|          5|   1|  0|2019-01-28|\n",
      "|         F|     G|107.607| 107.557| 0.975|13.2621|          5|  -1|  0|2019-01-28|\n",
      "|         E|     F|100.622| 100.582|  0.01| 4.4853|          5|  -1|  0|2019-01-29|\n",
      "|         F|     F|107.297| 107.217| 0.448|13.2087|          5|  -1|  0|2019-01-30|\n",
      "+----------+------+-------+--------+------+-------+-----------+----+---+----------+\n",
      "only showing top 5 rows\n",
      "\n"
     ]
    }
   ],
   "source": [
    "columns_to_drop = ['_c0','date_time']\n",
    "rfqs_df = rfqs_df.drop(*columns_to_drop)\n",
    "rfqs_df.show(5)"
   ]
  },
  {
   "cell_type": "code",
   "execution_count": 21,
   "metadata": {
    "colab": {
     "base_uri": "https://localhost:8080/"
    },
    "id": "Hm-DGYqnz-i3",
    "outputId": "b903e873-84f6-4b63-8c18-96bf5d9ee013"
   },
   "outputs": [
    {
     "name": "stdout",
     "output_type": "stream",
     "text": [
      "+-------+----------+----------+\n",
      "|    mid|instrument|  DateOnly|\n",
      "+-------+----------+----------+\n",
      "|107.758|         H|2019-01-25|\n",
      "|107.757|         H|2019-01-25|\n",
      "|107.755|         H|2019-01-25|\n",
      "|107.756|         H|2019-01-25|\n",
      "| 125.28|         K|2019-01-25|\n",
      "+-------+----------+----------+\n",
      "only showing top 5 rows\n",
      "\n"
     ]
    }
   ],
   "source": [
    "mids_df = mids_df.drop(*columns_to_drop)\n",
    "mids_df.show(5)"
   ]
  },
  {
   "cell_type": "markdown",
   "metadata": {
    "id": "xo34M2GW0OL2"
   },
   "source": [
    "Here I will, groupby \"instrument\" and \"DateOnly\" columns and use that to find highest value of mid for that day"
   ]
  },
  {
   "cell_type": "code",
   "execution_count": 22,
   "metadata": {
    "colab": {
     "base_uri": "https://localhost:8080/"
    },
    "id": "URRXLMYF0ET8",
    "outputId": "162b7e89-b752-4d35-ffc0-5ebab5cb763b"
   },
   "outputs": [
    {
     "name": "stdout",
     "output_type": "stream",
     "text": [
      "+----------+----------+------------+\n",
      "|instrument|  DateOnly|mid_external|\n",
      "+----------+----------+------------+\n",
      "|         I|2019-01-29|     112.797|\n",
      "|         A|2019-03-04|      101.95|\n",
      "|         J|2019-03-05|      105.97|\n",
      "|         G|2019-03-22|     104.703|\n",
      "|         I|2019-10-03|     115.518|\n",
      "+----------+----------+------------+\n",
      "only showing top 5 rows\n",
      "\n"
     ]
    }
   ],
   "source": [
    "mids_max_df = (mids_df\n",
    "    .groupBy(\"instrument\", \"DateOnly\")\n",
    "    .agg(F.max(\"mid\").alias(\"mid_external\")))\n",
    "mids_max_df.show(5)"
   ]
  },
  {
   "cell_type": "markdown",
   "metadata": {
    "id": "xjGcVJO10iLG"
   },
   "source": [
    "Let us see if that worked well or not, for that: I will mid value for \"2019-01-25\""
   ]
  },
  {
   "cell_type": "code",
   "execution_count": 23,
   "metadata": {
    "colab": {
     "base_uri": "https://localhost:8080/"
    },
    "id": "9fmSGNDn0aJ5",
    "outputId": "a254b055-9dd0-4dde-9046-5fdf24a6a947"
   },
   "outputs": [
    {
     "name": "stdout",
     "output_type": "stream",
     "text": [
      "+-------+----------+----------+\n",
      "|    mid|instrument|  DateOnly|\n",
      "+-------+----------+----------+\n",
      "|107.758|         H|2019-01-25|\n",
      "|107.757|         H|2019-01-25|\n",
      "|107.755|         H|2019-01-25|\n",
      "|107.756|         H|2019-01-25|\n",
      "| 107.81|         H|2019-01-25|\n",
      "|107.795|         H|2019-01-25|\n",
      "|107.917|         H|2019-01-25|\n",
      "|107.967|         H|2019-01-25|\n",
      "|108.009|         H|2019-01-25|\n",
      "|107.973|         H|2019-01-25|\n",
      "|107.939|         H|2019-01-25|\n",
      "|107.921|         H|2019-01-25|\n",
      "|107.898|         H|2019-01-25|\n",
      "|107.916|         H|2019-01-25|\n",
      "|107.925|         H|2019-01-25|\n",
      "|107.914|         H|2019-01-25|\n",
      "|107.878|         H|2019-01-25|\n",
      "|107.868|         H|2019-01-25|\n",
      "|107.863|         H|2019-01-25|\n",
      "|107.869|         H|2019-01-25|\n",
      "+-------+----------+----------+\n",
      "only showing top 20 rows\n",
      "\n"
     ]
    }
   ],
   "source": [
    "mids_df.filter(\"DateOnly like '2019-01-25' and instrument like 'H'\").show()\n"
   ]
  },
  {
   "cell_type": "code",
   "execution_count": 24,
   "metadata": {
    "colab": {
     "base_uri": "https://localhost:8080/"
    },
    "id": "f-zP3iul0s6Q",
    "outputId": "f85327dc-4d1e-4301-ac12-97762530cffd"
   },
   "outputs": [
    {
     "name": "stdout",
     "output_type": "stream",
     "text": [
      "+----------+----------+------------+\n",
      "|instrument|  DateOnly|mid_external|\n",
      "+----------+----------+------------+\n",
      "|         H|2019-01-25|     108.009|\n",
      "|         K|2019-01-25|     125.538|\n",
      "|         G|2019-01-25|     103.019|\n",
      "|         A|2019-01-25|     101.703|\n",
      "|         J|2019-01-25|     105.266|\n",
      "|         I|2019-01-25|      112.88|\n",
      "|         E|2019-01-25|     100.712|\n",
      "+----------+----------+------------+\n",
      "\n"
     ]
    }
   ],
   "source": [
    "mids_max_df.filter(\"DateOnly like '2019-01-25'\").show()\n",
    "\n",
    "# So we have short-listed unique and highest value of mid for the day to given instrument traded"
   ]
  },
  {
   "cell_type": "code",
   "execution_count": 25,
   "metadata": {
    "colab": {
     "base_uri": "https://localhost:8080/"
    },
    "id": "DLZdc93Y0v2d",
    "outputId": "b44c7ebc-59c9-4724-da2f-8c2ee9ecf3d3"
   },
   "outputs": [
    {
     "name": "stdout",
     "output_type": "stream",
     "text": [
      "Number of rows before: \t 23775\n",
      "Number of columns before: \t 3\n",
      "Number of rows now: \t 2066\n",
      "Number of columns now: \t 3\n"
     ]
    }
   ],
   "source": [
    "print('Number of rows before: \\t', mids_df.count())\n",
    "print('Number of columns before: \\t', len(mids_df.columns))\n",
    "\n",
    "print('Number of rows now: \\t', mids_max_df.count())\n",
    "print('Number of columns now: \\t', len(mids_max_df.columns))\n",
    "\n"
   ]
  },
  {
   "cell_type": "markdown",
   "metadata": {
    "id": "v6ycVIvK1JjP"
   },
   "source": [
    "**Joining dataframe**\n",
    "\n",
    "Now I will joining the two dataframes to form a final dataframe, that will be used for all rest computation.\n",
    "\n",
    "I have used instrument and Date as joining criteria and will be performing a left join."
   ]
  },
  {
   "cell_type": "code",
   "execution_count": 26,
   "metadata": {
    "colab": {
     "base_uri": "https://localhost:8080/"
    },
    "id": "DDVxL3J51EvJ",
    "outputId": "a411d9ce-a932-48af-9239-3bd017678026"
   },
   "outputs": [
    {
     "name": "stdout",
     "output_type": "stream",
     "text": [
      "+----------+----------+------+-------+--------+------+-------+-----------+----+---+------------+\n",
      "|instrument|  DateOnly|client|  price|     mid|vol_MM|   dv01|num_dealers|side|won|mid_external|\n",
      "+----------+----------+------+-------+--------+------+-------+-----------+----+---+------------+\n",
      "|         I|2019-01-25|     F|112.779|112.7416|   2.0|  6.087|          5|  -1|  0|      112.88|\n",
      "|         B|2019-01-28|     G|106.065|106.1855|   0.5|21.9017|          5|   1|  0|     106.342|\n",
      "|         F|2019-01-28|     G|107.607| 107.557| 0.975|13.2621|          5|  -1|  0|     107.586|\n",
      "|         E|2019-01-29|     F|100.622| 100.582|  0.01| 4.4853|          5|  -1|  0|     100.697|\n",
      "|         F|2019-01-30|     F|107.297| 107.217| 0.448|13.2087|          5|  -1|  0|     107.489|\n",
      "|         F|2019-01-31|     F|108.102| 107.942|  0.59|13.3072|          5|  -1|  0|     107.996|\n",
      "|         F|2019-02-05|     F|107.136| 107.056| 0.037|13.1736|          5|  -1|  0|     107.262|\n",
      "|         F|2019-02-13|     F| 107.13|107.0595|  0.12|13.1565|          5|  -1|  0|     107.096|\n",
      "|         C|2019-02-18|     G|101.014| 101.027|  10.0| 9.5187|          3|   1|  0|     101.112|\n",
      "|         C|2019-02-20|     G|101.297|101.3064|  10.0| 9.5442|          4|   1|  1|     101.313|\n",
      "|         B|2019-02-22|     F|106.415| 106.345| 0.005|21.9106|          7|  -1|  0|     106.604|\n",
      "|         C|2019-02-22|     G|101.524|101.5546|   8.2| 9.5621|          4|   1|  0|     101.598|\n",
      "|         G|2019-02-27|     F| 103.62|103.5696|   2.0| 7.5625|          5|  -1|  0|     103.625|\n",
      "|         B|2019-02-27|     F|106.955| 107.189|   0.5|22.1274|          5|   1|  0|     107.352|\n",
      "|         A|2019-02-27|     G|102.179|103.6042|  17.9| 8.4332|          5|   1|  0|     102.288|\n",
      "|         C|2019-02-28|     G|101.721|101.7247|   9.1| 9.5661|          4|   1|  1|     101.815|\n",
      "|         A|2019-03-07|     F|102.372|102.3478|  0.28| 8.9791|          5|  -1|  0|     103.142|\n",
      "|         C|2019-03-12|     G|102.694|102.7012|   2.0| 9.6469|          5|  -1|  0|     102.796|\n",
      "|         E|2019-03-14|     G|100.943|100.9535|   5.2| 4.3805|          4|   1|  0|     100.947|\n",
      "|         C|2019-03-14|     G|102.662| 102.657|   7.6| 9.6325|          5|   1|  1|     102.682|\n",
      "+----------+----------+------+-------+--------+------+-------+-----------+----+---+------------+\n",
      "only showing top 20 rows\n",
      "\n"
     ]
    }
   ],
   "source": [
    "df = rfqs_df.join(mids_max_df,['instrument','DateOnly'],how='left')\n",
    "df.show()"
   ]
  },
  {
   "cell_type": "code",
   "execution_count": 27,
   "metadata": {
    "colab": {
     "base_uri": "https://localhost:8080/"
    },
    "id": "gwwhpGnc1bRM",
    "outputId": "9f0576b9-b61e-4e38-d4b8-0d7b5afe2444"
   },
   "outputs": [
    {
     "name": "stdout",
     "output_type": "stream",
     "text": [
      "Number of rows in final dataframe: \t 6403\n",
      "Number of columns: \t 11\n"
     ]
    }
   ],
   "source": [
    "print('Number of rows in final dataframe: \\t', df.count())\n",
    "print('Number of columns: \\t', len(df.columns))"
   ]
  },
  {
   "cell_type": "markdown",
   "metadata": {
    "id": "F20HJrNj2CZq"
   },
   "source": [
    "The count of rows is same as rfqs dataset, which is caused we used it as main dataframe in left join as it holds our trading data.\n",
    "\n"
   ]
  },
  {
   "cell_type": "markdown",
   "metadata": {
    "id": "AIAVybSi1xG-"
   },
   "source": [
    "**Initial Investigation**\n",
    "\n",
    "Let me find out rows where mid_external column which is been pulled via left join is null."
   ]
  },
  {
   "cell_type": "code",
   "execution_count": 28,
   "metadata": {
    "colab": {
     "base_uri": "https://localhost:8080/"
    },
    "id": "ueqrnzdb1f9U",
    "outputId": "69ff2a90-c0ca-4031-93bb-c06ddb38f079"
   },
   "outputs": [
    {
     "name": "stdout",
     "output_type": "stream",
     "text": [
      "+----------+----------+------+-------+--------+------+-------+-----------+----+---+------------+\n",
      "|instrument|  DateOnly|client|  price|     mid|vol_MM|   dv01|num_dealers|side|won|mid_external|\n",
      "+----------+----------+------+-------+--------+------+-------+-----------+----+---+------------+\n",
      "|         D|2019-03-21|     F|101.726|101.6969| 0.527|14.2703|          5|  -1|  0|        null|\n",
      "|         D|2019-04-12|     F|102.695|102.6295|  0.31|14.3778|          5|  -1|  0|        null|\n",
      "|         D|2019-04-24|     F|101.857| 101.841|   0.4|14.2287|          5|  -1|  1|        null|\n",
      "|         D|2019-04-26|     F|101.981|101.9312| 0.005|14.2341|          5|  -1|  0|        null|\n",
      "|         D|2019-05-02|     F|103.384| 103.334|  0.58|14.4498|          5|  -1|  0|        null|\n",
      "|         D|2019-05-03|     G|103.227|103.2773|   6.0|14.4386|          5|   1|  0|        null|\n",
      "|         D|2019-05-10|     F|  103.4|103.3223|   0.2|14.4312|          5|  -1|  0|        null|\n",
      "|         L|2019-05-16|     G|100.912|100.9113|   8.4| 5.2106|          5|   1|  1|        null|\n",
      "|         D|2019-06-12|     F|110.491|110.4461| 0.294|15.5166|          5|  -1|  0|        null|\n",
      "|         D|2019-06-17|     G| 111.51| 111.509|   2.7|15.6774|          1|   1|  1|        null|\n",
      "|         D|2019-06-18|     G|113.636|113.7618|   7.5|16.0435|          5|   1|  0|        null|\n",
      "|         D|2019-07-04|     G|117.614|117.6555|   0.3|16.6264|          5|   1|  0|        null|\n",
      "|         L|2019-07-05|     F|102.312|102.3299|   1.5| 5.1603|          5|   1|  0|        null|\n",
      "|         L|2019-07-24|     G|102.498|102.5494|   7.5| 5.1265|          5|   1|  0|        null|\n",
      "|         L|2019-07-26|     G|102.396|102.4244|  5.45| 5.1079|          4|   1|  1|        null|\n",
      "|         D|2019-08-07|     G|120.296|120.1356|   1.4|  16.95|          6|  -1|  0|        null|\n",
      "|         L|2019-08-07|     F|102.935| 102.903|   1.0|  5.109|          7|  -1|  0|        null|\n",
      "|         L|2019-08-22|     G|102.799|102.8142|   0.3| 5.0566|          5|   1|  0|        null|\n",
      "|         D|2019-03-04|     G| 99.069| 99.0825|   7.5| 13.882|          5|   1|  1|        null|\n",
      "|         D|2019-03-18|     F|100.947|100.9016|  0.25| 14.151|          5|  -1|  0|        null|\n",
      "+----------+----------+------+-------+--------+------+-------+-----------+----+---+------------+\n",
      "only showing top 20 rows\n",
      "\n"
     ]
    }
   ],
   "source": [
    "df_null = df.filter(\"mid_external is null\")\n",
    "df_null.show()"
   ]
  },
  {
   "cell_type": "code",
   "execution_count": 29,
   "metadata": {
    "colab": {
     "base_uri": "https://localhost:8080/"
    },
    "id": "K4JTcL282MI_",
    "outputId": "ded689b7-2044-4be2-e7d2-5edb1756552e"
   },
   "outputs": [
    {
     "name": "stdout",
     "output_type": "stream",
     "text": [
      "Number of rows where mid external data is null: \t 953\n",
      "Number of columns: \t 11\n"
     ]
    }
   ],
   "source": [
    "print('Number of rows where mid external data is null: \\t', df_null.count())\n",
    "print('Number of columns: \\t', len(df_null.columns))"
   ]
  },
  {
   "cell_type": "markdown",
   "metadata": {
    "id": "zcwclUrj2TWP"
   },
   "source": [
    "so we have 953 rows where there is no external data available.\n",
    "We cannot leave it empty, so I will be imputing our own mid data in those column for that particular instrument, client and day."
   ]
  },
  {
   "cell_type": "code",
   "execution_count": 30,
   "metadata": {
    "colab": {
     "base_uri": "https://localhost:8080/"
    },
    "id": "9U67XaZz2R2S",
    "outputId": "eda93de8-b52e-4eea-b70b-9c8f9cc40df9"
   },
   "outputs": [
    {
     "name": "stdout",
     "output_type": "stream",
     "text": [
      "+----------+----------+------+-------+--------+------+-------+-----------+----+---+------------+\n",
      "|instrument|  DateOnly|client|  price|     mid|vol_MM|   dv01|num_dealers|side|won|mid_external|\n",
      "+----------+----------+------+-------+--------+------+-------+-----------+----+---+------------+\n",
      "|         D|2019-03-21|     F|101.726|101.6969| 0.527|14.2703|          5|  -1|  0|    101.6969|\n",
      "|         D|2019-04-12|     F|102.695|102.6295|  0.31|14.3778|          5|  -1|  0|    102.6295|\n",
      "|         D|2019-04-24|     F|101.857| 101.841|   0.4|14.2287|          5|  -1|  1|     101.841|\n",
      "|         D|2019-04-26|     F|101.981|101.9312| 0.005|14.2341|          5|  -1|  0|    101.9312|\n",
      "|         D|2019-05-02|     F|103.384| 103.334|  0.58|14.4498|          5|  -1|  0|     103.334|\n",
      "|         D|2019-05-03|     G|103.227|103.2773|   6.0|14.4386|          5|   1|  0|    103.2773|\n",
      "|         D|2019-05-10|     F|  103.4|103.3223|   0.2|14.4312|          5|  -1|  0|    103.3223|\n",
      "|         L|2019-05-16|     G|100.912|100.9113|   8.4| 5.2106|          5|   1|  1|    100.9113|\n",
      "|         D|2019-06-12|     F|110.491|110.4461| 0.294|15.5166|          5|  -1|  0|    110.4461|\n",
      "|         D|2019-06-17|     G| 111.51| 111.509|   2.7|15.6774|          1|   1|  1|     111.509|\n",
      "|         D|2019-06-18|     G|113.636|113.7618|   7.5|16.0435|          5|   1|  0|    113.7618|\n",
      "|         D|2019-07-04|     G|117.614|117.6555|   0.3|16.6264|          5|   1|  0|    117.6555|\n",
      "|         L|2019-07-05|     F|102.312|102.3299|   1.5| 5.1603|          5|   1|  0|    102.3299|\n",
      "|         L|2019-07-24|     G|102.498|102.5494|   7.5| 5.1265|          5|   1|  0|    102.5494|\n",
      "|         L|2019-07-26|     G|102.396|102.4244|  5.45| 5.1079|          4|   1|  1|    102.4244|\n",
      "|         D|2019-08-07|     G|120.296|120.1356|   1.4|  16.95|          6|  -1|  0|    120.1356|\n",
      "|         L|2019-08-07|     F|102.935| 102.903|   1.0|  5.109|          7|  -1|  0|     102.903|\n",
      "|         L|2019-08-22|     G|102.799|102.8142|   0.3| 5.0566|          5|   1|  0|    102.8142|\n",
      "|         D|2019-03-04|     G| 99.069| 99.0825|   7.5| 13.882|          5|   1|  1|     99.0825|\n",
      "|         D|2019-03-18|     F|100.947|100.9016|  0.25| 14.151|          5|  -1|  0|    100.9016|\n",
      "+----------+----------+------+-------+--------+------+-------+-----------+----+---+------------+\n",
      "only showing top 20 rows\n",
      "\n"
     ]
    }
   ],
   "source": [
    "# Let me try first on null data sample that we isolated earlier to see if imputation works well,\n",
    "# Then implement the same on main dataframe\n",
    "df_null = df_null.withColumn(\"mid_external\",coalesce(df.mid_external,df.mid))\n",
    "df_null.show()"
   ]
  },
  {
   "cell_type": "code",
   "execution_count": 31,
   "metadata": {
    "colab": {
     "base_uri": "https://localhost:8080/"
    },
    "id": "hw9ORDLx252k",
    "outputId": "f43ad4f2-473f-4822-9e4c-fb03394ca598"
   },
   "outputs": [
    {
     "name": "stdout",
     "output_type": "stream",
     "text": [
      "+----------+--------+------+-----+---+------+----+-----------+----+---+------------+\n",
      "|instrument|DateOnly|client|price|mid|vol_MM|dv01|num_dealers|side|won|mid_external|\n",
      "+----------+--------+------+-----+---+------+----+-----------+----+---+------------+\n",
      "+----------+--------+------+-----+---+------+----+-----------+----+---+------------+\n",
      "\n"
     ]
    }
   ],
   "source": [
    "df = df.withColumn(\"mid_external\",coalesce(df.mid_external,df.mid))\n",
    "df_null = df.filter(\"mid_external is null\")\n",
    "df_null.show()"
   ]
  },
  {
   "cell_type": "markdown",
   "metadata": {
    "id": "o_Nam3fG2-On"
   },
   "source": [
    "Our data imputation worked excellent as there is no null values in mid-external anymore now."
   ]
  },
  {
   "cell_type": "markdown",
   "metadata": {
    "id": "tiKYg-oF3lod"
   },
   "source": [
    "**Adding new features**\n",
    "\n",
    "As mentioned, a valuable feature to add to the dataset is spread of quote.\n",
    "\n",
    " This value is calculated as:\n",
    "- For a buy: mid - price\n",
    "- For a sell: price - mid\n",
    "\n",
    "\n",
    "I will adding 2 features, one will be spread of quote using internal mid and second will be using external mid"
   ]
  },
  {
   "cell_type": "code",
   "execution_count": 32,
   "metadata": {
    "colab": {
     "base_uri": "https://localhost:8080/"
    },
    "id": "jOXdnn773k7g",
    "outputId": "ac0c3b2a-2286-4921-ba4d-580e767a6348"
   },
   "outputs": [
    {
     "name": "stdout",
     "output_type": "stream",
     "text": [
      "+----------+----------+------+-------+--------+------+-------+-----------+----+---+------------+--------------------+\n",
      "|instrument|  DateOnly|client|  price|     mid|vol_MM|   dv01|num_dealers|side|won|mid_external|     spread_internal|\n",
      "+----------+----------+------+-------+--------+------+-------+-----------+----+---+------------+--------------------+\n",
      "|         I|2019-01-25|     F|112.779|112.7416|   2.0|  6.087|          5|  -1|  0|      112.88|0.037399999999990996|\n",
      "|         B|2019-01-28|     G|106.065|106.1855|   0.5|21.9017|          5|   1|  0|     106.342| 0.12050000000000693|\n",
      "|         F|2019-01-28|     G|107.607| 107.557| 0.975|13.2621|          5|  -1|  0|     107.586| 0.04999999999999716|\n",
      "|         E|2019-01-29|     F|100.622| 100.582|  0.01| 4.4853|          5|  -1|  0|     100.697| 0.04000000000000625|\n",
      "|         F|2019-01-30|     F|107.297| 107.217| 0.448|13.2087|          5|  -1|  0|     107.489|  0.0799999999999983|\n",
      "|         F|2019-01-31|     F|108.102| 107.942|  0.59|13.3072|          5|  -1|  0|     107.996|  0.1600000000000108|\n",
      "|         F|2019-02-05|     F|107.136| 107.056| 0.037|13.1736|          5|  -1|  0|     107.262|  0.0799999999999983|\n",
      "|         F|2019-02-13|     F| 107.13|107.0595|  0.12|13.1565|          5|  -1|  0|     107.096| 0.07049999999999557|\n",
      "|         C|2019-02-18|     G|101.014| 101.027|  10.0| 9.5187|          3|   1|  0|     101.112| 0.01300000000000523|\n",
      "|         C|2019-02-20|     G|101.297|101.3064|  10.0| 9.5442|          4|   1|  1|     101.313|0.009399999999999409|\n",
      "|         B|2019-02-22|     F|106.415| 106.345| 0.005|21.9106|          7|  -1|  0|     106.604| 0.07000000000000739|\n",
      "|         C|2019-02-22|     G|101.524|101.5546|   8.2| 9.5621|          4|   1|  0|     101.598|0.030599999999992633|\n",
      "|         G|2019-02-27|     F| 103.62|103.5696|   2.0| 7.5625|          5|  -1|  0|     103.625|0.050400000000010436|\n",
      "|         B|2019-02-27|     F|106.955| 107.189|   0.5|22.1274|          5|   1|  0|     107.352| 0.23399999999999466|\n",
      "|         A|2019-02-27|     G|102.179|103.6042|  17.9| 8.4332|          5|   1|  0|     102.288|  1.4252000000000038|\n",
      "|         C|2019-02-28|     G|101.721|101.7247|   9.1| 9.5661|          4|   1|  1|     101.815|0.003699999999994...|\n",
      "|         A|2019-03-07|     F|102.372|102.3478|  0.28| 8.9791|          5|  -1|  0|     103.142|0.024199999999993338|\n",
      "|         C|2019-03-12|     G|102.694|102.7012|   2.0| 9.6469|          5|  -1|  0|     102.796|-0.00719999999999...|\n",
      "|         E|2019-03-14|     G|100.943|100.9535|   5.2| 4.3805|          4|   1|  0|     100.947|0.010500000000007503|\n",
      "|         C|2019-03-14|     G|102.662| 102.657|   7.6| 9.6325|          5|   1|  1|     102.682|-0.00500000000000...|\n",
      "+----------+----------+------+-------+--------+------+-------+-----------+----+---+------------+--------------------+\n",
      "only showing top 20 rows\n",
      "\n"
     ]
    }
   ],
   "source": [
    "df = df.withColumn('spread_internal', \n",
    "                   when((col(\"side\") == \"1\"), ( df['mid'] - df['price'] ))\n",
    "                   .when((col(\"side\") == \"-1\"), ( df['price'] - df['mid'] ))\n",
    "                  .otherwise(0))\n",
    "df.show()"
   ]
  },
  {
   "cell_type": "code",
   "execution_count": 33,
   "metadata": {
    "colab": {
     "base_uri": "https://localhost:8080/"
    },
    "id": "K1QEaihN29Lx",
    "outputId": "42e486d0-596c-4eef-8434-1546834ae028"
   },
   "outputs": [
    {
     "name": "stdout",
     "output_type": "stream",
     "text": [
      "+----------+----------+------+-------+--------+------+-------+-----------+----+---+------------+--------------------+--------------------+\n",
      "|instrument|  DateOnly|client|  price|     mid|vol_MM|   dv01|num_dealers|side|won|mid_external|     spread_internal|     spread_external|\n",
      "+----------+----------+------+-------+--------+------+-------+-----------+----+---+------------+--------------------+--------------------+\n",
      "|         I|2019-01-25|     F|112.779|112.7416|   2.0|  6.087|          5|  -1|  0|      112.88|0.037399999999990996|-0.10099999999999909|\n",
      "|         B|2019-01-28|     G|106.065|106.1855|   0.5|21.9017|          5|   1|  0|     106.342| 0.12050000000000693|   0.277000000000001|\n",
      "|         F|2019-01-28|     G|107.607| 107.557| 0.975|13.2621|          5|  -1|  0|     107.586| 0.04999999999999716|0.021000000000000796|\n",
      "|         E|2019-01-29|     F|100.622| 100.582|  0.01| 4.4853|          5|  -1|  0|     100.697| 0.04000000000000625|-0.07500000000000284|\n",
      "|         F|2019-01-30|     F|107.297| 107.217| 0.448|13.2087|          5|  -1|  0|     107.489|  0.0799999999999983|-0.19200000000000728|\n",
      "|         F|2019-01-31|     F|108.102| 107.942|  0.59|13.3072|          5|  -1|  0|     107.996|  0.1600000000000108| 0.10600000000000875|\n",
      "|         F|2019-02-05|     F|107.136| 107.056| 0.037|13.1736|          5|  -1|  0|     107.262|  0.0799999999999983|-0.12600000000000477|\n",
      "|         F|2019-02-13|     F| 107.13|107.0595|  0.12|13.1565|          5|  -1|  0|     107.096| 0.07049999999999557|0.033999999999991815|\n",
      "|         C|2019-02-18|     G|101.014| 101.027|  10.0| 9.5187|          3|   1|  0|     101.112| 0.01300000000000523| 0.09799999999999898|\n",
      "|         C|2019-02-20|     G|101.297|101.3064|  10.0| 9.5442|          4|   1|  1|     101.313|0.009399999999999409|0.016000000000005343|\n",
      "|         B|2019-02-22|     F|106.415| 106.345| 0.005|21.9106|          7|  -1|  0|     106.604| 0.07000000000000739|-0.18899999999999295|\n",
      "|         C|2019-02-22|     G|101.524|101.5546|   8.2| 9.5621|          4|   1|  0|     101.598|0.030599999999992633| 0.07399999999999807|\n",
      "|         G|2019-02-27|     F| 103.62|103.5696|   2.0| 7.5625|          5|  -1|  0|     103.625|0.050400000000010436|-0.00499999999999...|\n",
      "|         B|2019-02-27|     F|106.955| 107.189|   0.5|22.1274|          5|   1|  0|     107.352| 0.23399999999999466| 0.39700000000000557|\n",
      "|         A|2019-02-27|     G|102.179|103.6042|  17.9| 8.4332|          5|   1|  0|     102.288|  1.4252000000000038| 0.10899999999999466|\n",
      "|         C|2019-02-28|     G|101.721|101.7247|   9.1| 9.5661|          4|   1|  1|     101.815|0.003699999999994...| 0.09399999999999409|\n",
      "|         A|2019-03-07|     F|102.372|102.3478|  0.28| 8.9791|          5|  -1|  0|     103.142|0.024199999999993338|  -0.769999999999996|\n",
      "|         C|2019-03-12|     G|102.694|102.7012|   2.0| 9.6469|          5|  -1|  0|     102.796|-0.00719999999999...|-0.10200000000000387|\n",
      "|         E|2019-03-14|     G|100.943|100.9535|   5.2| 4.3805|          4|   1|  0|     100.947|0.010500000000007503|0.004000000000004...|\n",
      "|         C|2019-03-14|     G|102.662| 102.657|   7.6| 9.6325|          5|   1|  1|     102.682|-0.00500000000000...| 0.01999999999999602|\n",
      "+----------+----------+------+-------+--------+------+-------+-----------+----+---+------------+--------------------+--------------------+\n",
      "only showing top 20 rows\n",
      "\n"
     ]
    }
   ],
   "source": [
    "df = df.withColumn('spread_external', \n",
    "                   when((col(\"side\") == \"1\"), ( df['mid_external'] - df['price'] ))\n",
    "                   .when((col(\"side\") == \"-1\"), ( df['price'] - df['mid_external'] ))\n",
    "                  .otherwise(0))\n",
    "df.show()"
   ]
  },
  {
   "cell_type": "code",
   "execution_count": 34,
   "metadata": {
    "colab": {
     "base_uri": "https://localhost:8080/"
    },
    "id": "g8c-9eBt5D25",
    "outputId": "ac8e9547-9092-4425-a2af-27431ce7b3e9"
   },
   "outputs": [
    {
     "name": "stdout",
     "output_type": "stream",
     "text": [
      "+----------+--------+------+-----+---+------+----+-----------+----+---+------------+---------------+---------------+\n",
      "|instrument|DateOnly|client|price|mid|vol_MM|dv01|num_dealers|side|won|mid_external|spread_internal|spread_external|\n",
      "+----------+--------+------+-----+---+------+----+-----------+----+---+------------+---------------+---------------+\n",
      "+----------+--------+------+-----+---+------+----+-----------+----+---+------------+---------------+---------------+\n",
      "\n"
     ]
    }
   ],
   "source": [
    "# Checking if there is any error in calculating quote spread\n",
    "df_null = df.filter(\"spread_external like '%error%'\")\n",
    "df_null.show()"
   ]
  },
  {
   "cell_type": "code",
   "execution_count": 35,
   "metadata": {
    "colab": {
     "base_uri": "https://localhost:8080/"
    },
    "id": "nxd0OfDL5KV2",
    "outputId": "ffca7a75-e27b-4e50-ef62-b1ec064dfe70"
   },
   "outputs": [
    {
     "name": "stdout",
     "output_type": "stream",
     "text": [
      "+----------+--------+------+-----+---+------+----+-----------+----+---+------------+---------------+---------------+\n",
      "|instrument|DateOnly|client|price|mid|vol_MM|dv01|num_dealers|side|won|mid_external|spread_internal|spread_external|\n",
      "+----------+--------+------+-----+---+------+----+-----------+----+---+------------+---------------+---------------+\n",
      "+----------+--------+------+-----+---+------+----+-----------+----+---+------------+---------------+---------------+\n",
      "\n"
     ]
    }
   ],
   "source": [
    "df_null = df.filter(\"spread_internal like '%error%'\")\n",
    "df_null.show()"
   ]
  },
  {
   "cell_type": "markdown",
   "metadata": {
    "id": "Sk2NA6Gd4mR5"
   },
   "source": [
    "One more features which I would like to add are using date is month column, which will help understand what is amount of activity happening in which month. I wont be using year, as all data is for 2019, so using year column wont be of any help."
   ]
  },
  {
   "cell_type": "code",
   "execution_count": 36,
   "metadata": {
    "colab": {
     "base_uri": "https://localhost:8080/"
    },
    "id": "yIxQlwgn4V1j",
    "outputId": "2a138353-612f-44ac-c754-0a677c79d032"
   },
   "outputs": [
    {
     "name": "stdout",
     "output_type": "stream",
     "text": [
      "+----------+----------+------+-------+--------+------+-------+-----------+----+---+------------+--------------------+--------------------+-----+\n",
      "|instrument|  DateOnly|client|  price|     mid|vol_MM|   dv01|num_dealers|side|won|mid_external|     spread_internal|     spread_external|month|\n",
      "+----------+----------+------+-------+--------+------+-------+-----------+----+---+------------+--------------------+--------------------+-----+\n",
      "|         I|2019-01-25|     F|112.779|112.7416|   2.0|  6.087|          5|  -1|  0|      112.88|0.037399999999990996|-0.10099999999999909|    1|\n",
      "|         B|2019-01-28|     G|106.065|106.1855|   0.5|21.9017|          5|   1|  0|     106.342| 0.12050000000000693|   0.277000000000001|    1|\n",
      "|         F|2019-01-28|     G|107.607| 107.557| 0.975|13.2621|          5|  -1|  0|     107.586| 0.04999999999999716|0.021000000000000796|    1|\n",
      "|         E|2019-01-29|     F|100.622| 100.582|  0.01| 4.4853|          5|  -1|  0|     100.697| 0.04000000000000625|-0.07500000000000284|    1|\n",
      "|         F|2019-01-30|     F|107.297| 107.217| 0.448|13.2087|          5|  -1|  0|     107.489|  0.0799999999999983|-0.19200000000000728|    1|\n",
      "|         F|2019-01-31|     F|108.102| 107.942|  0.59|13.3072|          5|  -1|  0|     107.996|  0.1600000000000108| 0.10600000000000875|    1|\n",
      "|         F|2019-02-05|     F|107.136| 107.056| 0.037|13.1736|          5|  -1|  0|     107.262|  0.0799999999999983|-0.12600000000000477|    2|\n",
      "|         F|2019-02-13|     F| 107.13|107.0595|  0.12|13.1565|          5|  -1|  0|     107.096| 0.07049999999999557|0.033999999999991815|    2|\n",
      "|         C|2019-02-18|     G|101.014| 101.027|  10.0| 9.5187|          3|   1|  0|     101.112| 0.01300000000000523| 0.09799999999999898|    2|\n",
      "|         C|2019-02-20|     G|101.297|101.3064|  10.0| 9.5442|          4|   1|  1|     101.313|0.009399999999999409|0.016000000000005343|    2|\n",
      "|         B|2019-02-22|     F|106.415| 106.345| 0.005|21.9106|          7|  -1|  0|     106.604| 0.07000000000000739|-0.18899999999999295|    2|\n",
      "|         C|2019-02-22|     G|101.524|101.5546|   8.2| 9.5621|          4|   1|  0|     101.598|0.030599999999992633| 0.07399999999999807|    2|\n",
      "|         G|2019-02-27|     F| 103.62|103.5696|   2.0| 7.5625|          5|  -1|  0|     103.625|0.050400000000010436|-0.00499999999999...|    2|\n",
      "|         B|2019-02-27|     F|106.955| 107.189|   0.5|22.1274|          5|   1|  0|     107.352| 0.23399999999999466| 0.39700000000000557|    2|\n",
      "|         A|2019-02-27|     G|102.179|103.6042|  17.9| 8.4332|          5|   1|  0|     102.288|  1.4252000000000038| 0.10899999999999466|    2|\n",
      "|         C|2019-02-28|     G|101.721|101.7247|   9.1| 9.5661|          4|   1|  1|     101.815|0.003699999999994...| 0.09399999999999409|    2|\n",
      "|         A|2019-03-07|     F|102.372|102.3478|  0.28| 8.9791|          5|  -1|  0|     103.142|0.024199999999993338|  -0.769999999999996|    3|\n",
      "|         C|2019-03-12|     G|102.694|102.7012|   2.0| 9.6469|          5|  -1|  0|     102.796|-0.00719999999999...|-0.10200000000000387|    3|\n",
      "|         E|2019-03-14|     G|100.943|100.9535|   5.2| 4.3805|          4|   1|  0|     100.947|0.010500000000007503|0.004000000000004...|    3|\n",
      "|         C|2019-03-14|     G|102.662| 102.657|   7.6| 9.6325|          5|   1|  1|     102.682|-0.00500000000000...| 0.01999999999999602|    3|\n",
      "+----------+----------+------+-------+--------+------+-------+-----------+----+---+------------+--------------------+--------------------+-----+\n",
      "only showing top 20 rows\n",
      "\n"
     ]
    }
   ],
   "source": [
    "df = df.withColumn('month',month(df.DateOnly))\n",
    "df.show()"
   ]
  },
  {
   "cell_type": "markdown",
   "metadata": {
    "id": "gLLLgEjn5RVl"
   },
   "source": [
    "**Exploratory Data Analysis**\n",
    "\n",
    "\n",
    "Let us first start by having a look at columns that we have and their datatypes."
   ]
  },
  {
   "cell_type": "code",
   "execution_count": 37,
   "metadata": {
    "colab": {
     "base_uri": "https://localhost:8080/",
     "height": 497
    },
    "id": "co2pi85R4-0a",
    "outputId": "6d2afcc4-f353-40d9-94da-7fe31994ca93"
   },
   "outputs": [
    {
     "name": "stdout",
     "output_type": "stream",
     "text": [
      "Columns overview\n"
     ]
    },
    {
     "data": {
      "text/html": [
       "<div>\n",
       "<style scoped>\n",
       "    .dataframe tbody tr th:only-of-type {\n",
       "        vertical-align: middle;\n",
       "    }\n",
       "\n",
       "    .dataframe tbody tr th {\n",
       "        vertical-align: top;\n",
       "    }\n",
       "\n",
       "    .dataframe thead th {\n",
       "        text-align: right;\n",
       "    }\n",
       "</style>\n",
       "<table border=\"1\" class=\"dataframe\">\n",
       "  <thead>\n",
       "    <tr style=\"text-align: right;\">\n",
       "      <th></th>\n",
       "      <th>Column Name</th>\n",
       "      <th>Data type</th>\n",
       "    </tr>\n",
       "  </thead>\n",
       "  <tbody>\n",
       "    <tr>\n",
       "      <th>0</th>\n",
       "      <td>instrument</td>\n",
       "      <td>string</td>\n",
       "    </tr>\n",
       "    <tr>\n",
       "      <th>1</th>\n",
       "      <td>DateOnly</td>\n",
       "      <td>string</td>\n",
       "    </tr>\n",
       "    <tr>\n",
       "      <th>2</th>\n",
       "      <td>client</td>\n",
       "      <td>string</td>\n",
       "    </tr>\n",
       "    <tr>\n",
       "      <th>3</th>\n",
       "      <td>price</td>\n",
       "      <td>double</td>\n",
       "    </tr>\n",
       "    <tr>\n",
       "      <th>4</th>\n",
       "      <td>mid</td>\n",
       "      <td>double</td>\n",
       "    </tr>\n",
       "    <tr>\n",
       "      <th>5</th>\n",
       "      <td>vol_MM</td>\n",
       "      <td>double</td>\n",
       "    </tr>\n",
       "    <tr>\n",
       "      <th>6</th>\n",
       "      <td>dv01</td>\n",
       "      <td>double</td>\n",
       "    </tr>\n",
       "    <tr>\n",
       "      <th>7</th>\n",
       "      <td>num_dealers</td>\n",
       "      <td>int</td>\n",
       "    </tr>\n",
       "    <tr>\n",
       "      <th>8</th>\n",
       "      <td>side</td>\n",
       "      <td>int</td>\n",
       "    </tr>\n",
       "    <tr>\n",
       "      <th>9</th>\n",
       "      <td>won</td>\n",
       "      <td>int</td>\n",
       "    </tr>\n",
       "    <tr>\n",
       "      <th>10</th>\n",
       "      <td>mid_external</td>\n",
       "      <td>double</td>\n",
       "    </tr>\n",
       "    <tr>\n",
       "      <th>11</th>\n",
       "      <td>spread_internal</td>\n",
       "      <td>double</td>\n",
       "    </tr>\n",
       "    <tr>\n",
       "      <th>12</th>\n",
       "      <td>spread_external</td>\n",
       "      <td>double</td>\n",
       "    </tr>\n",
       "    <tr>\n",
       "      <th>13</th>\n",
       "      <td>month</td>\n",
       "      <td>int</td>\n",
       "    </tr>\n",
       "  </tbody>\n",
       "</table>\n",
       "</div>"
      ],
      "text/plain": [
       "        Column Name Data type\n",
       "0        instrument    string\n",
       "1          DateOnly    string\n",
       "2            client    string\n",
       "3             price    double\n",
       "4               mid    double\n",
       "5            vol_MM    double\n",
       "6              dv01    double\n",
       "7       num_dealers       int\n",
       "8              side       int\n",
       "9               won       int\n",
       "10     mid_external    double\n",
       "11  spread_internal    double\n",
       "12  spread_external    double\n",
       "13            month       int"
      ]
     },
     "execution_count": 37,
     "metadata": {},
     "output_type": "execute_result"
    }
   ],
   "source": [
    "print('Columns overview')\n",
    "pd.DataFrame(df.dtypes, columns = ['Column Name','Data type'])"
   ]
  },
  {
   "cell_type": "markdown",
   "metadata": {
    "id": "9mwCjO18TacD"
   },
   "source": [
    "**Detect missing values and abnormal Values**\n",
    "\n",
    "After having a first sight of the columns, the first thing we should check is if the data set having any missing value.\n",
    "\n",
    "For string columns, we check for None and null For numeric columns, we check for zeroes and NaN."
   ]
  },
  {
   "cell_type": "code",
   "execution_count": 38,
   "metadata": {
    "colab": {
     "base_uri": "https://localhost:8080/",
     "height": 80
    },
    "id": "dNkn3d8YRB8j",
    "outputId": "427c9bc0-517c-4af2-b21d-3e11461dee90"
   },
   "outputs": [
    {
     "data": {
      "text/html": [
       "<div>\n",
       "<style scoped>\n",
       "    .dataframe tbody tr th:only-of-type {\n",
       "        vertical-align: middle;\n",
       "    }\n",
       "\n",
       "    .dataframe tbody tr th {\n",
       "        vertical-align: top;\n",
       "    }\n",
       "\n",
       "    .dataframe thead th {\n",
       "        text-align: right;\n",
       "    }\n",
       "</style>\n",
       "<table border=\"1\" class=\"dataframe\">\n",
       "  <thead>\n",
       "    <tr style=\"text-align: right;\">\n",
       "      <th></th>\n",
       "      <th>instrument</th>\n",
       "      <th>DateOnly</th>\n",
       "      <th>price</th>\n",
       "      <th>mid</th>\n",
       "      <th>vol_MM</th>\n",
       "      <th>dv01</th>\n",
       "      <th>num_dealers</th>\n",
       "      <th>side</th>\n",
       "      <th>won</th>\n",
       "      <th>spread_internal</th>\n",
       "      <th>spread_external</th>\n",
       "    </tr>\n",
       "  </thead>\n",
       "  <tbody>\n",
       "    <tr>\n",
       "      <th>0</th>\n",
       "      <td>0</td>\n",
       "      <td>0</td>\n",
       "      <td>0</td>\n",
       "      <td>0</td>\n",
       "      <td>0</td>\n",
       "      <td>0</td>\n",
       "      <td>0</td>\n",
       "      <td>0</td>\n",
       "      <td>0</td>\n",
       "      <td>0</td>\n",
       "      <td>0</td>\n",
       "    </tr>\n",
       "  </tbody>\n",
       "</table>\n",
       "</div>"
      ],
      "text/plain": [
       "   instrument  DateOnly  price  mid  vol_MM  dv01  num_dealers  side  won  \\\n",
       "0           0         0      0    0       0     0            0     0    0   \n",
       "\n",
       "   spread_internal  spread_external  \n",
       "0                0                0  "
      ]
     },
     "execution_count": 38,
     "metadata": {},
     "output_type": "execute_result"
    }
   ],
   "source": [
    "string_columns = ['instrument', 'DateOnly', 'spread_internal','spread_external']\n",
    "numeric_columns = ['price','mid','vol_MM','dv01','num_dealers','side','won']\n",
    "missing_values = {} \n",
    "for index, column in enumerate(df.columns):\n",
    "    if column in string_columns:    # check string columns with None and Null values\n",
    "#         missing_count = df.filter(col(column).eqNullSafe(None) | col(column).isNull()).count()\n",
    "#         missing_values.update({column: missing_count})\n",
    "        missing_count = df.filter(col(column).eqNullSafe(None) | col(column).isNull()).count()\n",
    "        missing_values.update({column:missing_count})\n",
    "    if column in numeric_columns:  # check zeroes, None, NaN\n",
    "        missing_count = df.where(col(column).isin([None,np.nan])).count()\n",
    "        missing_values.update({column:missing_count})\n",
    "missing_df = pd.DataFrame.from_dict([missing_values])\n",
    "missing_df"
   ]
  },
  {
   "cell_type": "markdown",
   "metadata": {
    "id": "Q45ww4b5TzHH"
   },
   "source": [
    "**About the data visualization in the Spark**\n",
    "\n",
    "There is no native visualization library in Spark. But we can do the lazy transformation on the dataframe, extract the necessary numbers, and make the visualizations out of that.There are options to make visualization by extending other libraries though."
   ]
  },
  {
   "cell_type": "code",
   "execution_count": 39,
   "metadata": {
    "colab": {
     "base_uri": "https://localhost:8080/"
    },
    "id": "Sgmw0FR518q_",
    "outputId": "c83dcddc-332b-449b-a125-69fccbbb9f90"
   },
   "outputs": [
    {
     "name": "stdout",
     "output_type": "stream",
     "text": [
      "+---+-----+\n",
      "|won|count|\n",
      "+---+-----+\n",
      "|  1|  723|\n",
      "|  0| 5680|\n",
      "+---+-----+\n",
      "\n"
     ]
    }
   ],
   "source": [
    "df.groupBy('won').count().show()\n"
   ]
  },
  {
   "cell_type": "markdown",
   "metadata": {
    "id": "e8x3JUXcUfkT"
   },
   "source": [
    "**Continious Variables**\n",
    "\n",
    "We have alot of continuous or non-categorical values here, like prices, which need to be inspected against categories like clients and instrument to find out their movements against time."
   ]
  },
  {
   "cell_type": "code",
   "execution_count": 40,
   "metadata": {
    "colab": {
     "base_uri": "https://localhost:8080/"
    },
    "id": "uH8OtU-XTnuz",
    "outputId": "a1f0d66a-70ea-4c58-bfbb-0f783be6a9a3"
   },
   "outputs": [
    {
     "name": "stdout",
     "output_type": "stream",
     "text": [
      "+------+----------+------------------+------------------+------------------+-------------------+------------------+------------------+\n",
      "|client|instrument|        avg(price)|          avg(mid)| avg(mid_external)|        avg(vol_MM)|         avg(dv01)|  avg(num_dealers)|\n",
      "+------+----------+------------------+------------------+------------------+-------------------+------------------+------------------+\n",
      "|     G|         E|101.67840000000001|101.69912000000001|101.73960000000001|  5.339999999999999| 4.281259999999999|               4.8|\n",
      "|     A|         H|112.58821212121212|112.53953686868684|112.68575101010104|  5.277000000000001|  7.18346666666666| 4.853535353535354|\n",
      "|     C|         J|111.91723529411763|111.89138235294118|112.06812941176472|0.29802941176470593|11.323952941176472|               5.0|\n",
      "|     A|         L|102.44688000000006|102.45175288888892|102.47226844444447| 5.2842355555555525| 5.041445777777779| 4.857777777777778|\n",
      "|     A|         G|108.83169543147208|108.82701624365487|108.93232385786811|  4.937350253807107| 7.543583248730962| 4.847715736040609|\n",
      "|     G|         B|125.70388235294116|125.79729117647064|126.34682352941178| 3.6969705882352937|26.897505882352938| 4.617647058823529|\n",
      "|     B|         L|102.06495180722887|102.06462289156629|102.07229759036147| 4.1131927710843375|5.1234831325301196| 5.891566265060241|\n",
      "|     B|         I|114.29551690821262|114.29891449275364|114.37012753623192| 0.3474541062801936| 5.888399033816424| 5.743961352657005|\n",
      "|     B|         C|107.41232214765101|107.41811342281878| 107.5554302013423| 1.0862348993288589| 9.943608724832213|5.8389261744966445|\n",
      "|     D|         C|108.03494117647062|108.04015147058821|108.20643676470593| 3.5575441176470584|  9.98123088235294|11.147058823529411|\n",
      "|     D|         E|101.97009374999999|101.96774062500002|102.00242968749997| 1.7288593750000005|4.2198593749999995|         10.890625|\n",
      "|     G|         F|117.19282352941175|117.22384705882351|117.41488235294116|  3.714529411764706|14.377899999999999| 4.352941176470588|\n",
      "|     B|         G| 106.5004824561404|106.44526403508776|106.57939649122801| 1.5188070175438602| 7.546813157894739| 5.657894736842105|\n",
      "|     A|         F|120.35308132530113|120.32667590361443|120.62093253012043| 2.1888795180722904|14.720342771084335| 5.156626506024097|\n",
      "|     F|         I|114.07758823529413|114.06120588235297|114.11358823529413| 0.8519999999999999| 5.890294117647059| 4.176470588235294|\n",
      "|     G|         I|114.91314285714284|114.93615714285714|114.99428571428572|  4.028571428571428| 5.808671428571429| 5.571428571428571|\n",
      "|     G|         J|115.53855000000003|         115.55441|115.86965000000001| 3.3860000000000006|         11.631075|              4.95|\n",
      "|     F|         C|106.80308333333335|106.78250833333335|106.90116666666667| 1.0992499999999998|            9.8803| 5.333333333333333|\n",
      "|     B|         F|117.41383544303797|117.25052278481012|117.62612658227846| 1.2430506329113924|  14.2139164556962| 5.810126582278481|\n",
      "|     F|         H|110.80165217391304|110.76704782608698|110.85052173913043|   9.24504347826087|7.2737434782608705| 4.086956521739131|\n",
      "+------+----------+------------------+------------------+------------------+-------------------+------------------+------------------+\n",
      "only showing top 20 rows\n",
      "\n"
     ]
    }
   ],
   "source": [
    "df.groupBy('client','instrument').mean('price', 'mid','mid_external','vol_MM','dv01','num_dealers').show()\n"
   ]
  },
  {
   "cell_type": "markdown",
   "metadata": {
    "id": "92t_bmXLU66a"
   },
   "source": [
    "Let us filter down just on client angle now and see the movement."
   ]
  },
  {
   "cell_type": "code",
   "execution_count": 41,
   "metadata": {
    "colab": {
     "base_uri": "https://localhost:8080/"
    },
    "id": "t7aRMRNkU1VP",
    "outputId": "ca554ce4-555c-41b3-d38c-852c4c7d1643"
   },
   "outputs": [
    {
     "name": "stdout",
     "output_type": "stream",
     "text": [
      "+------+------------------+------------------+------------------+-------------------+------------------+------------------+\n",
      "|client|        avg(price)|          avg(mid)| avg(mid_external)|        avg(vol_MM)|         avg(dv01)|  avg(num_dealers)|\n",
      "+------+------------------+------------------+------------------+-------------------+------------------+------------------+\n",
      "|     F|108.57285430463571|108.54813079470198|108.67650596026495|  1.734360927152318|11.454836423841062| 4.940397350993377|\n",
      "|     B|113.58359051254108|113.51717306434033|113.74274285714299| 0.8831341330425252|10.779739967284604| 5.869683751363141|\n",
      "|     D|110.43891304347825|110.43280332480813|110.53751432225047|  2.052521739130434| 8.050230434782607|10.404092071611252|\n",
      "|     C|111.58492639593905|111.56643045685281|111.72537741116736|0.30632994923857876|10.015243654822338|               5.0|\n",
      "|     A| 113.1076738715829|113.08267056579798|113.30896013985999| 3.8733531468531512| 12.53033350286075| 4.997774952320407|\n",
      "|     G| 111.6018154761905|111.63558363095234| 111.8388461309523|  4.850919642857142|13.205101190476196| 4.741071428571429|\n",
      "+------+------------------+------------------+------------------+-------------------+------------------+------------------+\n",
      "\n"
     ]
    }
   ],
   "source": [
    "df.groupBy('client').mean('price', 'mid','mid_external','vol_MM','dv01','num_dealers').show()"
   ]
  },
  {
   "cell_type": "code",
   "execution_count": 42,
   "metadata": {
    "colab": {
     "base_uri": "https://localhost:8080/"
    },
    "id": "AVNWctBHVAXT",
    "outputId": "4c8ec4aa-69e3-4115-8bca-974a733596c1"
   },
   "outputs": [
    {
     "name": "stdout",
     "output_type": "stream",
     "text": [
      "+----------+------------------+------------------+------------------+-------------------+------------------+------------------+\n",
      "|instrument|        avg(price)|          avg(mid)| avg(mid_external)|        avg(vol_MM)|         avg(dv01)|  avg(num_dealers)|\n",
      "+----------+------------------+------------------+------------------+-------------------+------------------+------------------+\n",
      "|         K|127.41309401709404|127.48619943019952|127.58349287749287|0.27489743589743615|  7.08836467236467|   5.9002849002849|\n",
      "|         F|118.24831926605498|118.19883376146788|118.48159467889909| 1.7449100917431186|14.448889908256886| 5.269724770642202|\n",
      "|         E|102.12967441860465|102.13009418604649|102.17105581395363|  5.164982558139536| 4.175547480620158|5.7771317829457365|\n",
      "|         B|125.21742652329745|125.07243034647561|125.82489295101595| 1.7269366786140974| 26.63481577060935| 5.103942652329749|\n",
      "|         L|102.26599218749999|102.27172526041674|102.28731328125008|  5.129164062499996| 5.073788020833329|            5.0625|\n",
      "|         D|111.46609893455101|111.44413881278535|111.48888371385074| 2.0168417047184173| 15.63109726027398|  5.39117199391172|\n",
      "|         C|107.72667270194985|107.72224860724224|107.88253760445689|  3.847629526462395| 9.945209470752115| 5.745125348189415|\n",
      "|         J|114.01493541202676|113.98664810690421|114.20885011135847|   2.43887750556793|11.471424053452111| 5.131403118040089|\n",
      "|         A|106.79553260869571|106.77444394409937|106.92438245341621| 2.0097096273291895| 9.203838664596265| 5.619565217391305|\n",
      "|         G|107.60881074766351|107.58853948598133|107.70278644859802|   2.82251401869159| 7.555242990654204| 6.035046728971962|\n",
      "|         I|114.57310407239821|114.52496199095016|114.63747171945697| 1.3972466063348403| 5.827859276018099| 6.239819004524887|\n",
      "|         H|112.01637962962965|111.98820347222221|112.10766111111117| 3.3609282407407415| 7.230748842592583|  5.87962962962963|\n",
      "+----------+------------------+------------------+------------------+-------------------+------------------+------------------+\n",
      "\n"
     ]
    }
   ],
   "source": [
    "# The same on instrument to see the spread\n",
    "df.groupBy('instrument').mean('price', 'mid','mid_external','vol_MM','dv01','num_dealers').show()"
   ]
  },
  {
   "cell_type": "markdown",
   "metadata": {
    "id": "IdNmfQcKVOEq"
   },
   "source": [
    "Let me pivot the instruments against individual client to see which client is intreasted more in which instrument."
   ]
  },
  {
   "cell_type": "code",
   "execution_count": 43,
   "metadata": {
    "colab": {
     "base_uri": "https://localhost:8080/"
    },
    "id": "ODZgL_y1VIPb",
    "outputId": "980bd668-5f16-4c87-906b-fbcdc3e09152"
   },
   "outputs": [
    {
     "name": "stdout",
     "output_type": "stream",
     "text": [
      "+------+----+---+---+---+---+---+---+---+---+----+----+---+\n",
      "|client|   A|  B|  C|  D|  E|  F|  G|  H|  I|   J|   K|  L|\n",
      "+------+----+---+---+---+---+---+---+---+---+----+----+---+\n",
      "|     F|  36| 25| 12| 40| 24| 78| 14| 23| 17|  16|   5| 12|\n",
      "|     B| 349|237|149| 98| 69| 79|114| 97|207|  82| 270| 83|\n",
      "|     D|null|  5| 68| 25| 64| 12| 64| 58| 70|null|  22|  3|\n",
      "|     C|  42| 26| 38| 35| 45| 27| 37| 40| 31|  34|  28| 11|\n",
      "|     A| 178|476|379|419|309|332|197|198|110| 297|  26|225|\n",
      "|     G|  39| 68| 72| 40|  5| 17|  2| 16|  7|  20|null| 50|\n",
      "+------+----+---+---+---+---+---+---+---+---+----+----+---+\n",
      "\n"
     ]
    }
   ],
   "source": [
    "df.groupBy('client').pivot('instrument').count().show()\n"
   ]
  },
  {
   "cell_type": "markdown",
   "metadata": {
    "id": "NkCGS9oWVu0o"
   },
   "source": [
    "The above analysis, clearly points out to interest of clients in an instrument and what they are not interested in.\n",
    "\n",
    "Using similar approach, let me see how many dealers are bidding for a given instrument, which would let us know which instrument is easy to target and which has alot of competition."
   ]
  },
  {
   "cell_type": "code",
   "execution_count": 44,
   "metadata": {
    "colab": {
     "base_uri": "https://localhost:8080/"
    },
    "id": "0o-p7rEbVW8q",
    "outputId": "937790ee-eee7-4454-e6ca-53d3050fbeea"
   },
   "outputs": [
    {
     "name": "stdout",
     "output_type": "stream",
     "text": [
      "+----------+----+----+---+----+---+---+----+----+----+---+----+----+----+----+----+----+----+----+----+----+\n",
      "|instrument|   1|   2|  3|   4|  5|  6|   7|   8|   9| 10|  11|  12|  13|  14|  15|  16|  17|  18|  19|  21|\n",
      "+----------+----+----+---+----+---+---+----+----+----+---+----+----+----+----+----+----+----+----+----+----+\n",
      "|         K|null|null|  1|null|282|  6|null|   1|   1| 59|null|null|null|null|   1|null|null|null|null|null|\n",
      "|         F|   2|   1| 13|  39|365|100|   7|null|null| 14|null|   1|null|null|   1|   2|null|null|null|null|\n",
      "|         E|   1|   6| 16|  35|355| 32|   4|   8|   7| 21|   6|   5|   3|   3|   5|   2|   2|   1|   1|   3|\n",
      "|         B|   7|  21| 37|  51|559|124|   4|   1|   2| 30|null|null|null|null|   1|null|null|null|null|null|\n",
      "|         L|   6|   4| 12|  46|260| 34|   4|   1|null| 17|null|null|null|null|null|null|null|null|null|null|\n",
      "|         D|   2|   3| 13|  68|362|169|null|   7|   4| 24|   1|   1|null|   1|   2|null|null|null|null|null|\n",
      "|         C|   3|   6| 37|  63|395|124|   4|   7|   9| 37|   5|   2|   3|   8|   6|null|   2|null|   4|   3|\n",
      "|         J|null|   7|  9|  50|312| 54|   2|null|null| 12|null|null|null|null|   3|null|null|null|null|null|\n",
      "|         A|   4|   8|  7|  11|481| 50|   4|   2|null| 74|null|null|null|null|   3|null|null|null|null|null|\n",
      "|         G|   1|   5|  9|  30|278| 30|   5|   6|   8| 25|   7|   5|   3|   3|   2|   2|   3|   1|   2|   3|\n",
      "|         I|   4|   6| 13|  18|290| 14|   5|   5|  11| 42|   6|   3|   3|   7|   7|null|null|   1|   3|   4|\n",
      "|         H|   5|   5| 17|  40|246| 46|   3|   8|   9| 29|   5|   2|   4|   3|   2|   2|   1|   1|   1|   3|\n",
      "+----------+----+----+---+----+---+---+----+----+----+---+----+----+----+----+----+----+----+----+----+----+\n",
      "\n"
     ]
    }
   ],
   "source": [
    "df.groupBy('instrument').pivot('num_dealers').count().show()\n"
   ]
  },
  {
   "cell_type": "markdown",
   "metadata": {
    "id": "acIRNJulWoBw"
   },
   "source": [
    "Let us see, month by month analysis of the trading happening to get an insight of which months where busy and which were comparatively less busy."
   ]
  },
  {
   "cell_type": "code",
   "execution_count": 45,
   "metadata": {
    "colab": {
     "base_uri": "https://localhost:8080/",
     "height": 558
    },
    "id": "SAbyt2GjWOIJ",
    "outputId": "ea0e2623-8e55-4304-e50e-b82bf13e3ce3"
   },
   "outputs": [
    {
     "data": {
      "text/plain": [
       "Text(0.5, 0, 'Month')"
      ]
     },
     "execution_count": 45,
     "metadata": {},
     "output_type": "execute_result"
    },
    {
     "data": {
      "text/plain": [
       "Text(0, 0.5, 'Total trading done')"
      ]
     },
     "execution_count": 45,
     "metadata": {},
     "output_type": "execute_result"
    },
    {
     "data": {
      "text/plain": [
       "Text(-0.25125, 1089.4199999999998, '1084')"
      ]
     },
     "execution_count": 45,
     "metadata": {},
     "output_type": "execute_result"
    },
    {
     "data": {
      "text/plain": [
       "Text(0.7537499999999999, 903.4949999999999, '899')"
      ]
     },
     "execution_count": 45,
     "metadata": {},
     "output_type": "execute_result"
    },
    {
     "data": {
      "text/plain": [
       "Text(1.7587499999999998, 863.295, '859')"
      ]
     },
     "execution_count": 45,
     "metadata": {},
     "output_type": "execute_result"
    },
    {
     "data": {
      "text/plain": [
       "Text(2.76375, 663.3, '660')"
      ]
     },
     "execution_count": 45,
     "metadata": {},
     "output_type": "execute_result"
    },
    {
     "data": {
      "text/plain": [
       "Text(3.76875, 604.0049999999999, '601')"
      ]
     },
     "execution_count": 45,
     "metadata": {},
     "output_type": "execute_result"
    },
    {
     "data": {
      "text/plain": [
       "Text(4.77375, 587.925, '585')"
      ]
     },
     "execution_count": 45,
     "metadata": {},
     "output_type": "execute_result"
    },
    {
     "data": {
      "text/plain": [
       "Text(5.77875, 581.895, '579')"
      ]
     },
     "execution_count": 45,
     "metadata": {},
     "output_type": "execute_result"
    },
    {
     "data": {
      "text/plain": [
       "Text(6.7837499999999995, 541.6949999999999, '539')"
      ]
     },
     "execution_count": 45,
     "metadata": {},
     "output_type": "execute_result"
    },
    {
     "data": {
      "text/plain": [
       "Text(7.788749999999999, 459.28499999999997, '457')"
      ]
     },
     "execution_count": 45,
     "metadata": {},
     "output_type": "execute_result"
    },
    {
     "data": {
      "text/plain": [
       "Text(8.79375, 140.7, '140')"
      ]
     },
     "execution_count": 45,
     "metadata": {},
     "output_type": "execute_result"
    },
    {
     "data": {
      "image/png": "[encoded data removed]",
      "text/plain": [
       "<Figure size 1008x576 with 1 Axes>"
      ]
     },
     "metadata": {
      "image/png": {
       "height": 501,
       "width": 845
      },
      "needs_background": "light"
     },
     "output_type": "display_data"
    }
   ],
   "source": [
    "panda_df = df.toPandas()\n",
    "ax = panda_df['month'].value_counts().plot(kind='bar',\n",
    "                                    figsize=(14,8),\n",
    "                                    title=\"Number of trade request for 2019\")\n",
    "ax.set_xlabel(\"Month\")\n",
    "ax.set_ylabel(\"Total trading done\")\n",
    "for p in ax.patches:\n",
    "    ax.annotate(str(p.get_height()), (p.get_x() * 1.005, p.get_height() * 1.005))\n",
    "plt.show()"
   ]
  },
  {
   "cell_type": "markdown",
   "metadata": {
    "id": "K06ez3hoYTY5"
   },
   "source": [
    "Let us look at month wise request raised by clients, which will give us understanding of clients who are actively trading and should be targeted for more business."
   ]
  },
  {
   "cell_type": "code",
   "execution_count": 46,
   "metadata": {
    "colab": {
     "base_uri": "https://localhost:8080/",
     "height": 301
    },
    "id": "zs1HBHW_XPju",
    "outputId": "d7f66786-f17b-4adb-9ec1-3e0e00434bec"
   },
   "outputs": [
    {
     "data": {
      "text/plain": [
       "<AxesSubplot:xlabel='month', ylabel='count'>"
      ]
     },
     "execution_count": 46,
     "metadata": {},
     "output_type": "execute_result"
    },
    {
     "data": {
      "image/png": "[encoded data removed]",
      "text/plain": [
       "<Figure size 432x288 with 1 Axes>"
      ]
     },
     "metadata": {
      "image/png": {
       "height": 266,
       "width": 392
      },
      "needs_background": "light"
     },
     "output_type": "display_data"
    }
   ],
   "source": [
    "# Split of clients requesting over months\n",
    "sns.countplot(data=panda_df,x='month',hue='client')"
   ]
  },
  {
   "cell_type": "markdown",
   "metadata": {
    "id": "qsoEDgAewYDq"
   },
   "source": [
    "Client activity tracker per month"
   ]
  },
  {
   "cell_type": "markdown",
   "metadata": {
    "id": "n7lsJjiFYg9G"
   },
   "source": [
    "Split of instruments been traded over time"
   ]
  },
  {
   "cell_type": "code",
   "execution_count": 47,
   "metadata": {
    "colab": {
     "base_uri": "https://localhost:8080/",
     "height": 638
    },
    "id": "-v-uh_JeXdsx",
    "outputId": "401abbed-4d36-4f4d-f350-036291ac6fe5"
   },
   "outputs": [
    {
     "data": {
      "text/plain": [
       "<seaborn.axisgrid.FacetGrid at 0x1a2a4659700>"
      ]
     },
     "execution_count": 47,
     "metadata": {},
     "output_type": "execute_result"
    },
    {
     "data": {
      "image/png": "[encoded data removed]",
      "text/plain": [
       "<Figure size 907.325x595.44 with 1 Axes>"
      ]
     },
     "metadata": {
      "image/png": {
       "height": 603,
       "width": 917
      },
      "needs_background": "light"
     },
     "output_type": "display_data"
    }
   ],
   "source": [
    "sns.catplot(data=panda_df,kind='count',x='month',hue='instrument',height=8.27, aspect=11.7/8.27)"
   ]
  },
  {
   "cell_type": "markdown",
   "metadata": {
    "id": "7_b_X1H2ZjKX"
   },
   "source": [
    "Profit which was made or could be made on a client over time.\n",
    "\n",
    "Spread_internal = Profit made\n",
    "\n",
    "spread_external = Profit could be made"
   ]
  },
  {
   "cell_type": "code",
   "execution_count": 48,
   "metadata": {
    "colab": {
     "base_uri": "https://localhost:8080/",
     "height": 586
    },
    "id": "hTDmnq-fYlAU",
    "outputId": "2176336b-79e6-4861-b6ba-c3713e748a08"
   },
   "outputs": [
    {
     "name": "stderr",
     "output_type": "stream",
     "text": [
      "<ipython-input-48-996bbc026bdd>:1: FutureWarning: Indexing with multiple keys (implicitly converted to a tuple of keys) will be deprecated, use a list instead.\n",
      "  ax = panda_df.groupby('client')['spread_internal','spread_external'].sum().plot(kind='bar',\n"
     ]
    },
    {
     "data": {
      "text/plain": [
       "Text(0.5, 0, 'client')"
      ]
     },
     "execution_count": 48,
     "metadata": {},
     "output_type": "execute_result"
    },
    {
     "data": {
      "text/plain": [
       "Text(0, 0.5, 'Profit made')"
      ]
     },
     "execution_count": 48,
     "metadata": {},
     "output_type": "execute_result"
    },
    {
     "data": {
      "image/png": "[encoded data removed]",
      "text/plain": [
       "<Figure size 1008x576 with 1 Axes>"
      ]
     },
     "metadata": {
      "image/png": {
       "height": 497,
       "width": 838
      },
      "needs_background": "light"
     },
     "output_type": "display_data"
    }
   ],
   "source": [
    "ax = panda_df.groupby('client')['spread_internal','spread_external'].sum().plot(kind='bar',\n",
    "                                    figsize=(14,8),\n",
    "                                    title=\"Total money earned per client over given period of 2019\")\n",
    "ax.set_xlabel(\"client\")\n",
    "ax.set_ylabel(\"Profit made\")"
   ]
  },
  {
   "cell_type": "code",
   "execution_count": 49,
   "metadata": {
    "colab": {
     "base_uri": "https://localhost:8080/",
     "height": 425
    },
    "id": "NWIwJTujZSWs",
    "outputId": "8871ece5-76d4-42df-acb3-c8e23a5f81ff"
   },
   "outputs": [
    {
     "data": {
      "text/plain": [
       "<Figure size 720x432 with 0 Axes>"
      ]
     },
     "execution_count": 49,
     "metadata": {},
     "output_type": "execute_result"
    },
    {
     "data": {
      "text/plain": [
       "<AxesSubplot:xlabel='instrument', ylabel='price'>"
      ]
     },
     "execution_count": 49,
     "metadata": {},
     "output_type": "execute_result"
    },
    {
     "data": {
      "text/plain": [
       "Text(0.5, 1.0, 'Instrument VS price ratio')"
      ]
     },
     "execution_count": 49,
     "metadata": {},
     "output_type": "execute_result"
    },
    {
     "data": {
      "image/png": "[encoded data removed]",
      "text/plain": [
       "<Figure size 720x432 with 1 Axes>"
      ]
     },
     "metadata": {
      "image/png": {
       "height": 390,
       "width": 615
      },
      "needs_background": "light"
     },
     "output_type": "display_data"
    }
   ],
   "source": [
    "plt.figure(figsize=(10,6))\n",
    "sns.boxplot(x='instrument', y='price', data=panda_df)\n",
    "plt.title('Instrument VS price ratio')\n",
    "plt.show()"
   ]
  },
  {
   "cell_type": "code",
   "execution_count": 50,
   "metadata": {
    "colab": {
     "base_uri": "https://localhost:8080/",
     "height": 425
    },
    "id": "EP9cKdVaZZxR",
    "outputId": "86e249bb-8c3c-4539-8570-bb88717415da"
   },
   "outputs": [
    {
     "data": {
      "text/plain": [
       "<Figure size 720x432 with 0 Axes>"
      ]
     },
     "execution_count": 50,
     "metadata": {},
     "output_type": "execute_result"
    },
    {
     "data": {
      "text/plain": [
       "<AxesSubplot:xlabel='instrument', ylabel='spread_internal'>"
      ]
     },
     "execution_count": 50,
     "metadata": {},
     "output_type": "execute_result"
    },
    {
     "data": {
      "text/plain": [
       "Text(0.5, 1.0, 'Instrument VS profit ratio')"
      ]
     },
     "execution_count": 50,
     "metadata": {},
     "output_type": "execute_result"
    },
    {
     "data": {
      "image/png": "[encoded data removed]",
      "text/plain": [
       "<Figure size 720x432 with 1 Axes>"
      ]
     },
     "metadata": {
      "image/png": {
       "height": 390,
       "width": 616
      },
      "needs_background": "light"
     },
     "output_type": "display_data"
    }
   ],
   "source": [
    "plt.figure(figsize=(10,6))\n",
    "sns.boxplot(x='instrument', y='spread_internal', data=panda_df)\n",
    "plt.title('Instrument VS profit ratio')\n",
    "plt.show()"
   ]
  },
  {
   "cell_type": "code",
   "execution_count": 51,
   "metadata": {
    "colab": {
     "base_uri": "https://localhost:8080/",
     "height": 425
    },
    "id": "6fqCCs0kaRr7",
    "outputId": "3738a8eb-3933-4b99-a6d2-431e657aab4a"
   },
   "outputs": [
    {
     "data": {
      "text/plain": [
       "<Figure size 720x432 with 0 Axes>"
      ]
     },
     "execution_count": 51,
     "metadata": {},
     "output_type": "execute_result"
    },
    {
     "data": {
      "text/plain": [
       "<AxesSubplot:xlabel='client', ylabel='mid'>"
      ]
     },
     "execution_count": 51,
     "metadata": {},
     "output_type": "execute_result"
    },
    {
     "data": {
      "text/plain": [
       "Text(0.5, 1.0, 'client vs mid offered')"
      ]
     },
     "execution_count": 51,
     "metadata": {},
     "output_type": "execute_result"
    },
    {
     "data": {
      "image/png": "[encoded data removed]",
      "text/plain": [
       "<Figure size 720x432 with 1 Axes>"
      ]
     },
     "metadata": {
      "image/png": {
       "height": 390,
       "width": 615
      },
      "needs_background": "light"
     },
     "output_type": "display_data"
    }
   ],
   "source": [
    "plt.figure(figsize=(10,6))\n",
    "sns.boxplot(x='client', y='mid', data=panda_df)\n",
    "plt.title('client vs mid offered')\n",
    "plt.show()"
   ]
  },
  {
   "cell_type": "markdown",
   "metadata": {
    "id": "Llu1XVWozYod"
   },
   "source": [
    "**Feature Engineering and Model Building**\n",
    "\n",
    "\n",
    "So far we used spark dataframe available in SPARK SQL for EDA and initial analysis. Now we will be using the SPARK ML library to do feature engineering and model design. \n",
    "\n",
    "We will cover the following ML task on SPARK ML here:\n",
    "\n",
    "**StringIndexer**: Converts string categories to numerical categories.\n",
    "\n",
    "**Vector Assembler**: Special to Spark API. We will find detail shortly.\n",
    "\n",
    "**Train-validation split**: Split training and testing data for unbiased evaluation.\n",
    "\n",
    "**Classification Model**:\n",
    "Tree-based ensemble methods: Random forest and Gradient boosting.\n",
    "\n",
    "**Model Evaluation**: Evaluating our model on unseen data to make sure our model is not overfitting or underfitting.\n"
   ]
  },
  {
   "cell_type": "code",
   "execution_count": 52,
   "metadata": {
    "colab": {
     "base_uri": "https://localhost:8080/"
    },
    "id": "ngq9AYiJwChW",
    "outputId": "d8ccc163-bfba-4cf3-d145-6f8780d8323d"
   },
   "outputs": [
    {
     "name": "stdout",
     "output_type": "stream",
     "text": [
      "+----------+----------+------+-------+--------+------+-------+-----------+----+---+------------+--------------------+--------------------+-----+\n",
      "|instrument|  DateOnly|client|  price|     mid|vol_MM|   dv01|num_dealers|side|won|mid_external|     spread_internal|     spread_external|month|\n",
      "+----------+----------+------+-------+--------+------+-------+-----------+----+---+------------+--------------------+--------------------+-----+\n",
      "|         I|2019-01-25|     F|112.779|112.7416|   2.0|  6.087|          5|  -1|  0|      112.88|0.037399999999990996|-0.10099999999999909|    1|\n",
      "|         B|2019-01-28|     G|106.065|106.1855|   0.5|21.9017|          5|   1|  0|     106.342| 0.12050000000000693|   0.277000000000001|    1|\n",
      "|         F|2019-01-28|     G|107.607| 107.557| 0.975|13.2621|          5|  -1|  0|     107.586| 0.04999999999999716|0.021000000000000796|    1|\n",
      "|         E|2019-01-29|     F|100.622| 100.582|  0.01| 4.4853|          5|  -1|  0|     100.697| 0.04000000000000625|-0.07500000000000284|    1|\n",
      "|         F|2019-01-30|     F|107.297| 107.217| 0.448|13.2087|          5|  -1|  0|     107.489|  0.0799999999999983|-0.19200000000000728|    1|\n",
      "+----------+----------+------+-------+--------+------+-------+-----------+----+---+------------+--------------------+--------------------+-----+\n",
      "only showing top 5 rows\n",
      "\n"
     ]
    }
   ],
   "source": [
    "df.show(5)"
   ]
  },
  {
   "cell_type": "code",
   "execution_count": 53,
   "metadata": {
    "colab": {
     "base_uri": "https://localhost:8080/",
     "height": 497
    },
    "id": "xUqSZyU-02te",
    "outputId": "1c88447b-fbb5-49b5-c10e-49f3bb6929a2"
   },
   "outputs": [
    {
     "name": "stdout",
     "output_type": "stream",
     "text": [
      "Columns overview\n"
     ]
    },
    {
     "data": {
      "text/html": [
       "<div>\n",
       "<style scoped>\n",
       "    .dataframe tbody tr th:only-of-type {\n",
       "        vertical-align: middle;\n",
       "    }\n",
       "\n",
       "    .dataframe tbody tr th {\n",
       "        vertical-align: top;\n",
       "    }\n",
       "\n",
       "    .dataframe thead th {\n",
       "        text-align: right;\n",
       "    }\n",
       "</style>\n",
       "<table border=\"1\" class=\"dataframe\">\n",
       "  <thead>\n",
       "    <tr style=\"text-align: right;\">\n",
       "      <th></th>\n",
       "      <th>Column Name</th>\n",
       "      <th>Data type</th>\n",
       "    </tr>\n",
       "  </thead>\n",
       "  <tbody>\n",
       "    <tr>\n",
       "      <th>0</th>\n",
       "      <td>instrument</td>\n",
       "      <td>string</td>\n",
       "    </tr>\n",
       "    <tr>\n",
       "      <th>1</th>\n",
       "      <td>DateOnly</td>\n",
       "      <td>string</td>\n",
       "    </tr>\n",
       "    <tr>\n",
       "      <th>2</th>\n",
       "      <td>client</td>\n",
       "      <td>string</td>\n",
       "    </tr>\n",
       "    <tr>\n",
       "      <th>3</th>\n",
       "      <td>price</td>\n",
       "      <td>double</td>\n",
       "    </tr>\n",
       "    <tr>\n",
       "      <th>4</th>\n",
       "      <td>mid</td>\n",
       "      <td>double</td>\n",
       "    </tr>\n",
       "    <tr>\n",
       "      <th>5</th>\n",
       "      <td>vol_MM</td>\n",
       "      <td>double</td>\n",
       "    </tr>\n",
       "    <tr>\n",
       "      <th>6</th>\n",
       "      <td>dv01</td>\n",
       "      <td>double</td>\n",
       "    </tr>\n",
       "    <tr>\n",
       "      <th>7</th>\n",
       "      <td>num_dealers</td>\n",
       "      <td>int</td>\n",
       "    </tr>\n",
       "    <tr>\n",
       "      <th>8</th>\n",
       "      <td>side</td>\n",
       "      <td>int</td>\n",
       "    </tr>\n",
       "    <tr>\n",
       "      <th>9</th>\n",
       "      <td>won</td>\n",
       "      <td>int</td>\n",
       "    </tr>\n",
       "    <tr>\n",
       "      <th>10</th>\n",
       "      <td>mid_external</td>\n",
       "      <td>double</td>\n",
       "    </tr>\n",
       "    <tr>\n",
       "      <th>11</th>\n",
       "      <td>spread_internal</td>\n",
       "      <td>double</td>\n",
       "    </tr>\n",
       "    <tr>\n",
       "      <th>12</th>\n",
       "      <td>spread_external</td>\n",
       "      <td>double</td>\n",
       "    </tr>\n",
       "    <tr>\n",
       "      <th>13</th>\n",
       "      <td>month</td>\n",
       "      <td>int</td>\n",
       "    </tr>\n",
       "  </tbody>\n",
       "</table>\n",
       "</div>"
      ],
      "text/plain": [
       "        Column Name Data type\n",
       "0        instrument    string\n",
       "1          DateOnly    string\n",
       "2            client    string\n",
       "3             price    double\n",
       "4               mid    double\n",
       "5            vol_MM    double\n",
       "6              dv01    double\n",
       "7       num_dealers       int\n",
       "8              side       int\n",
       "9               won       int\n",
       "10     mid_external    double\n",
       "11  spread_internal    double\n",
       "12  spread_external    double\n",
       "13            month       int"
      ]
     },
     "execution_count": 53,
     "metadata": {},
     "output_type": "execute_result"
    }
   ],
   "source": [
    "print('Columns overview')\n",
    "pd.DataFrame(df.dtypes, columns = ['Column Name','Data type'])"
   ]
  },
  {
   "cell_type": "markdown",
   "metadata": {
    "id": "pWMca_Kl1Dmx"
   },
   "source": [
    "**String Indexer**\n",
    "\n",
    "We will convert the instrument and client column from string to numeric index. This creates a new column for numeric leaving the original intact. So we will remove them afterward."
   ]
  },
  {
   "cell_type": "code",
   "execution_count": 54,
   "metadata": {
    "colab": {
     "base_uri": "https://localhost:8080/"
    },
    "id": "UcPgJGLK0_cb",
    "outputId": "001f6cd8-5054-4f38-d3e1-bffb4cff63d1"
   },
   "outputs": [
    {
     "name": "stdout",
     "output_type": "stream",
     "text": [
      "+-------+--------+------+-------+-----------+----+---+------------+--------------------+--------------------+-----+-------------+---------+\n",
      "|  price|     mid|vol_MM|   dv01|num_dealers|side|won|mid_external|     spread_internal|     spread_external|month|instrumentNum|clientNum|\n",
      "+-------+--------+------+-------+-----------+----+---+------------+--------------------+--------------------+-----+-------------+---------+\n",
      "|112.779|112.7416|   2.0|  6.087|          5|  -1|  0|      112.88|0.037399999999990996|-0.10099999999999909|    1|          7.0|      5.0|\n",
      "|106.065|106.1855|   0.5|21.9017|          5|   1|  0|     106.342| 0.12050000000000693|   0.277000000000001|    1|          0.0|      4.0|\n",
      "|107.607| 107.557| 0.975|13.2621|          5|  -1|  0|     107.586| 0.04999999999999716|0.021000000000000796|    1|          4.0|      4.0|\n",
      "|100.622| 100.582|  0.01| 4.4853|          5|  -1|  0|     100.697| 0.04000000000000625|-0.07500000000000284|    1|          5.0|      5.0|\n",
      "+-------+--------+------+-------+-----------+----+---+------------+--------------------+--------------------+-----+-------------+---------+\n",
      "only showing top 4 rows\n",
      "\n"
     ]
    }
   ],
   "source": [
    "stringIndex = StringIndexer(inputCols=['instrument', 'client'], \n",
    "                       outputCols=['instrumentNum', 'clientNum'])\n",
    "\n",
    "stringIndex_model = stringIndex.fit(df)\n",
    "\n",
    "df1_ = stringIndex_model.transform(df).drop('instrument', 'client','DateOnly')\n",
    "df1_.show(4)"
   ]
  },
  {
   "cell_type": "code",
   "execution_count": 55,
   "metadata": {
    "colab": {
     "base_uri": "https://localhost:8080/"
    },
    "id": "yMAYGieW1JMQ",
    "outputId": "57fcec44-5787-4cc6-f3f8-180e9b36bb5b"
   },
   "outputs": [
    {
     "name": "stdout",
     "output_type": "stream",
     "text": [
      "root\n",
      " |-- price: double (nullable = true)\n",
      " |-- mid: double (nullable = true)\n",
      " |-- vol_MM: double (nullable = true)\n",
      " |-- dv01: double (nullable = true)\n",
      " |-- num_dealers: integer (nullable = true)\n",
      " |-- side: integer (nullable = true)\n",
      " |-- won: integer (nullable = true)\n",
      " |-- mid_external: double (nullable = true)\n",
      " |-- spread_internal: double (nullable = true)\n",
      " |-- spread_external: double (nullable = true)\n",
      " |-- month: integer (nullable = true)\n",
      " |-- instrumentNum: double (nullable = false)\n",
      " |-- clientNum: double (nullable = false)\n",
      "\n"
     ]
    }
   ],
   "source": [
    "df1_.printSchema()"
   ]
  },
  {
   "cell_type": "markdown",
   "metadata": {
    "id": "FCsjurgT1YSE"
   },
   "source": [
    "**What is VectorAssembler?**\n",
    "\n",
    "In Python's scikit learn API the model takes X and y variable in the separation matrix. The target y is usually a column vector and feature X is a matrix. scikit learn accepts X as a matrix of dataframe directly. But Spark API is different here. First, it requires X and y in a single matrix instead of two for the training data. It accepts X only in the prediction part as it should. And also X should be a vector in each row (see the output below) of the dataframe. In short, we can not directly feed the dataframe in the model. We should do what VectorAssembler does.\n",
    "\n",
    "In below, inputCols are the feature columns that are doing to be merged to make a vector in each row and outputCol is the name of the merged column. This is the column that Spark ML identifies as the feature column. It is a common practice to rename this as features as Spark ML identifies this name. If its name is different you have to mention column name when fitting model. Then we can select only the feature column and y column."
   ]
  },
  {
   "cell_type": "code",
   "execution_count": 56,
   "metadata": {
    "colab": {
     "base_uri": "https://localhost:8080/"
    },
    "id": "vMbBusu31R5J",
    "outputId": "6a7ea91a-ff22-47b0-8bdb-de2cc8281587"
   },
   "outputs": [
    {
     "name": "stdout",
     "output_type": "stream",
     "text": [
      "+-----------------------------------------------------------------------------------------------------+---+\n",
      "|features                                                                                             |won|\n",
      "+-----------------------------------------------------------------------------------------------------+---+\n",
      "|[112.779,112.7416,2.0,6.087,5.0,-1.0,112.88,0.037399999999990996,-0.10099999999999909,1.0,7.0,5.0]   |0  |\n",
      "|[106.065,106.1855,0.5,21.9017,5.0,1.0,106.342,0.12050000000000693,0.277000000000001,1.0,0.0,4.0]     |0  |\n",
      "|[107.607,107.557,0.975,13.2621,5.0,-1.0,107.586,0.04999999999999716,0.021000000000000796,1.0,4.0,4.0]|0  |\n",
      "|[100.622,100.582,0.01,4.4853,5.0,-1.0,100.697,0.04000000000000625,-0.07500000000000284,1.0,5.0,5.0]  |0  |\n",
      "+-----------------------------------------------------------------------------------------------------+---+\n",
      "only showing top 4 rows\n",
      "\n"
     ]
    }
   ],
   "source": [
    "vec_asmbl = VectorAssembler(inputCols=df1_.drop(\"won\").columns, \n",
    "                           outputCol='features')\n",
    "df1_ = vec_asmbl.transform(df1_).select('features', 'won')\n",
    "df1_.show(4, truncate=False)"
   ]
  },
  {
   "cell_type": "markdown",
   "metadata": {
    "id": "eAqRCOVS4-Nq"
   },
   "source": [
    "**Train-Validation Split**\n",
    "\n",
    "Now we split the training data into the train and validation part. We split the data into a 7:3 ratio."
   ]
  },
  {
   "cell_type": "code",
   "execution_count": 57,
   "metadata": {
    "colab": {
     "base_uri": "https://localhost:8080/"
    },
    "id": "cBNbrSI21ohp",
    "outputId": "2b5f9b9c-af03-407b-98e1-2a573dc5fd78"
   },
   "outputs": [
    {
     "name": "stdout",
     "output_type": "stream",
     "text": [
      "+----------------------------------------------------------------------------------------------------+---+\n",
      "|features                                                                                            |won|\n",
      "+----------------------------------------------------------------------------------------------------+---+\n",
      "|[99.069,99.0825,7.5,13.882,5.0,1.0,99.0825,0.013499999999993406,0.013499999999993406,3.0,2.0,4.0]   |1  |\n",
      "|[99.864,99.8407,2.75,14.0053,5.0,-1.0,99.8407,0.023300000000006094,0.023300000000006094,3.0,2.0,0.0]|0  |\n",
      "|[99.887,105.9995,11.0,10.8411,2.0,-1.0,105.9995,-6.112499999999997,-6.112499999999997,3.0,2.0,0.0]  |0  |\n",
      "|[99.947,99.9085,3.0,14.0163,5.0,-1.0,99.9085,0.03849999999999909,0.03849999999999909,3.0,2.0,0.0]   |0  |\n",
      "+----------------------------------------------------------------------------------------------------+---+\n",
      "only showing top 4 rows\n",
      "\n"
     ]
    }
   ],
   "source": [
    "train_df, valid_df = df1_.randomSplit([0.7, 0.3])\n",
    "train_df.show(4, truncate=False)\n"
   ]
  },
  {
   "cell_type": "markdown",
   "metadata": {
    "id": "VYqxXbdm5izA"
   },
   "source": [
    "**Classification Model**\n",
    "\n",
    "As our problem above is a classification based case where our targe variable is 0 or 1 basically won or not won, we need to select classification based algorithms.\n",
    "\n",
    "The challenge in our  case is that the training data is **highly imbalanced** as we have very less samples of cases where we have won to ones we have not.\n",
    "\n",
    "So inorder to handle imbalanced data, we either need to balance it out(undersampling or oversampling) or use algorithm that balances weights using tuning.\n",
    "\n",
    "For now I will use ensemble technique for modelling but in future would be good to add it on top of that.\n",
    "\n",
    "**Ensemble Tree**\n",
    "\n",
    "Currently Spark ML supports two types of ensemble algorithm. Random forest for bagging and gradient boosting for boosting. There is no stacking algorithm available in Spark ML yet. Here we will study both availabel ensemble method both are tree-based methods."
   ]
  },
  {
   "cell_type": "code",
   "execution_count": 58,
   "metadata": {
    "colab": {
     "base_uri": "https://localhost:8080/"
    },
    "id": "mGGnOvnM5HFG",
    "outputId": "e576a173-65c7-45f2-ce74-531e10bb13a4"
   },
   "outputs": [
    {
     "name": "stdout",
     "output_type": "stream",
     "text": [
      "accuracy of Random forest on unseen data: 0.8895410885805763\n"
     ]
    }
   ],
   "source": [
    "evaluator = MulticlassClassificationEvaluator(labelCol='won', \n",
    "                                          metricName='accuracy')\n",
    "\n",
    "rf = RandomForestClassifier(labelCol='won', \n",
    "                           numTrees=100, maxDepth=3)\n",
    "\n",
    "\n",
    "rf_model = rf.fit(train_df)\n",
    "rf_pred = rf_model.transform(valid_df)\n",
    "print('accuracy of Random forest on unseen data: '+str(evaluator.evaluate(rf_pred)))\n"
   ]
  },
  {
   "cell_type": "markdown",
   "metadata": {},
   "source": [
    "#### using pipeline eith grid search and cross validation for selecting best combination\n",
    "\n",
    "pipeline = Pipeline(stages = [rf])\n",
    "paramGrid = ParamGridBuilder()\\\n",
    "   .addGrid(rf.maxDepth, [2, 4, 6, 8])\\\n",
    "   .addGrid(rf.minInstancesPerNode, [1, 2,  5, 7])\\\n",
    "   .addGrid(rf.numTrees, [50,100,150,200])\\\n",
    "   .build()\n",
    "\n",
    "evaluator = MulticlassClassificationEvaluator(labelCol='won', \n",
    "                                          metricName='accuracy')\n",
    "\n",
    "crossval = CrossValidator(estimator = pipeline,\n",
    "                          estimatorParamMaps = paramGrid,\n",
    "                          evaluator = evaluator,\n",
    "                          numFolds = 10)\n",
    "\n",
    "cvModel = crossval.fit(train_df)\n",
    "print(cvModel.bestModel.stages)\n",
    "cvModel_rf = cvModel.fit(train_df)\n",
    "cv_rf_pred = cvModel_rf.transform(valid_df)\n",
    "print('accuracy of tunned Random forest on unseen data: '+str(evaluator.evaluate(cv_rf_pred)))\n"
   ]
  },
  {
   "cell_type": "code",
   "execution_count": 59,
   "metadata": {
    "colab": {
     "base_uri": "https://localhost:8080/"
    },
    "id": "W9bUHSHf6w-q",
    "outputId": "2c77689c-50bb-4155-a96c-d03f837c3e3b"
   },
   "outputs": [
    {
     "name": "stdout",
     "output_type": "stream",
     "text": [
      "accuracy of Gradient Boosting on unseen data: 0.8922091782283885\n"
     ]
    }
   ],
   "source": [
    "gb = GBTClassifier(labelCol='won', maxIter=75, maxDepth=3)\n",
    "\n",
    "gb_model = gb.fit(train_df)\n",
    "gb_pred = gb_model.transform(valid_df)\n",
    "print('accuracy of Gradient Boosting on unseen data: '+str(evaluator.evaluate(gb_pred)))\n"
   ]
  },
  {
   "cell_type": "markdown",
   "metadata": {
    "id": "3mCWVvc77eBQ"
   },
   "source": [
    "We have trained both our bagging and boosting models using training data and in terms on pure accuracy, we can see that boosting performs slightly better than bagging.\n",
    "\n",
    "\n",
    "**Model Evaluation:**\n",
    "\n",
    "As mentioned above, even if we score a 100% accuracy it wont be impressive as our training dataset is highly imbalanced. So our trained model is going to be more  biased towards majority class instead of minority class. So the best way to evaluate our model is using different evaluation metrics like F1 score, precision, recall per class and then confusion metric."
   ]
  },
  {
   "cell_type": "code",
   "execution_count": 60,
   "metadata": {
    "colab": {
     "base_uri": "https://localhost:8080/"
    },
    "id": "7cVk77_7Eh2W",
    "outputId": "56d1c0e9-b33e-4c14-8dea-80e87bf5919d"
   },
   "outputs": [
    {
     "name": "stdout",
     "output_type": "stream",
     "text": [
      "PRINTING RESULTS FOR: random_forest\n",
      "Test Area Under ROC: 0.7538081409432527\n",
      "F1-SCORE: 0.8396026001133292\n",
      "PRECISION_BY_LABEL-SCORE: 0.8893048128342246\n",
      "RECALL_BY_LABEL-SCORE: 1.0\n",
      "PRINTING CLASSIFICATION REPORT...................\n",
      "              precision    recall  f1-score   support\n",
      "\n",
      "           0       0.89      1.00      0.94      1663\n",
      "           1       1.00      0.02      0.04       211\n",
      "\n",
      "    accuracy                           0.89      1874\n",
      "   macro avg       0.94      0.51      0.49      1874\n",
      "weighted avg       0.90      0.89      0.84      1874\n",
      "\n",
      "PRINTING CONFUSION MATRIX...................\n",
      "[[1663    0]\n",
      " [ 207    4]]\n",
      "PRINTING RESULTS FOR: gradient_boosting\n",
      "Test Area Under ROC: 0.8032363142040422\n",
      "F1-SCORE: 0.8533674243762762\n",
      "PRECISION_BY_LABEL-SCORE: 0.8955062263129399\n",
      "RECALL_BY_LABEL-SCORE: 0.994588093806374\n",
      "PRINTING CLASSIFICATION REPORT...................\n",
      "              precision    recall  f1-score   support\n",
      "\n",
      "           0       0.90      0.99      0.94      1663\n",
      "           1       0.67      0.09      0.15       211\n",
      "\n",
      "    accuracy                           0.89      1874\n",
      "   macro avg       0.78      0.54      0.55      1874\n",
      "weighted avg       0.87      0.89      0.85      1874\n",
      "\n",
      "PRINTING CONFUSION MATRIX...................\n",
      "[[1654    9]\n",
      " [ 193   18]]\n"
     ]
    }
   ],
   "source": [
    "prediction_scores = {'random_forest':rf_pred,'gradient_boosting':gb_pred}\n",
    "\n",
    "for pred in prediction_scores:\n",
    "  print('PRINTING RESULTS FOR: '+ str(pred))\n",
    "  evaluator = BinaryClassificationEvaluator(labelCol='won')\n",
    "  print(\"Test Area Under ROC: \" + str(evaluator.evaluate(prediction_scores[pred], {evaluator.metricName: \"areaUnderROC\"})))\n",
    "  evaluator = MulticlassClassificationEvaluator(labelCol='won', \n",
    "                                          metricName='f1')\n",
    "  print(\"F1-SCORE: \"+str(evaluator.evaluate(prediction_scores[pred])))\n",
    "  evaluator = MulticlassClassificationEvaluator(labelCol='won', \n",
    "                                          metricName='precisionByLabel')\n",
    "  print(\"PRECISION_BY_LABEL-SCORE: \"+str(evaluator.evaluate(prediction_scores[pred])))\n",
    "  evaluator = MulticlassClassificationEvaluator(labelCol='won', \n",
    "                                          metricName='recallByLabel')\n",
    "  print(\"RECALL_BY_LABEL-SCORE: \"+str(evaluator.evaluate(prediction_scores[pred])))\n",
    "  y_true = prediction_scores[pred].select(['won']).collect()\n",
    "  y_pred = prediction_scores[pred].select(['prediction']).collect()\n",
    "  print('PRINTING CLASSIFICATION REPORT...................')\n",
    "  print(classification_report(y_true, y_pred))\n",
    "  print('PRINTING CONFUSION MATRIX...................')\n",
    "  print(confusion_matrix(y_true,y_pred))\n",
    "\n",
    "\n"
   ]
  },
  {
   "cell_type": "markdown",
   "metadata": {
    "id": "l5HiG0DPMiB3"
   },
   "source": [
    "As we see above, Gradient boosting performs much better than Random Forest and it is evident in the confusion matrix of both.\n",
    "\n",
    "However, there is alot more to improve from here.....\n",
    "\n",
    "\n",
    "**Future Work:**\n",
    "\n",
    "As we part of POC baseline model we produced a model that predicts if a given trade will be won or not.\n",
    "\n",
    "However inorder to put this model in production there will be few more changes that I would make, before making it as final version.\n",
    "\n",
    "1. Handling imbalanced data before training the model if possible.\n",
    "\n",
    "2. Trying more robust models that perform well on imbalanced data.\n",
    "\n",
    "3. Adding pipeline to run sequence of tasks:  StringIndexer, VectorAssembler, and ML model training-evaluation.\n",
    "\n",
    "4. Run Grid-Search and cross validation for hyperparameter tuning."
   ]
  },
  {
   "cell_type": "code",
   "execution_count": null,
   "metadata": {
    "id": "DIaXVuPFMuxZ"
   },
   "outputs": [],
   "source": []
  }
 ],
 "metadata": {
  "colab": {
   "collapsed_sections": [],
   "name": "Piyush_Rumao_assignment_pyspark_v1.ipynb",
   "provenance": []
  },
  "kernelspec": {
   "display_name": "Python 3",
   "language": "python",
   "name": "python3"
  },
  "language_info": {
   "codemirror_mode": {
    "name": "ipython",
    "version": 3
   },
   "file_extension": ".py",
   "mimetype": "text/x-python",
   "name": "python",
   "nbconvert_exporter": "python",
   "pygments_lexer": "ipython3",
   "version": "3.8.8"
  }
 },
 "nbformat": 4,
 "nbformat_minor": 1
}
